{
 "cells": [
  {
   "cell_type": "markdown",
   "metadata": {},
   "source": [
    "# We have performed the following in the notebook\n",
    "### 1. Exploring the distribution of ratings of the reviews with the help of count plot\n",
    "### 2. Sentiment Score calculation using VADER model\n",
    "### 3. Visualizing the average sentiment score of vader in each rating category using bar plot\n",
    "### 4. Sentiment Score calculation using Transformers Roberta model\n",
    "### 5. Visualizing the average sentiment score of roberta in each rating category using bar plot\n",
    "### 6. Exploring some negative sentiments in very high rated reviews (in order to explore where model failed to identify the sentiments)\n",
    "### 7. Exploring some positive sentiments in very low rated reviews ((in order to explore where model failed to identify the sentiments)"
   ]
  },
  {
   "cell_type": "code",
   "execution_count": 2,
   "metadata": {
    "execution": {
     "iopub.execute_input": "2024-09-28T11:39:15.343650Z",
     "iopub.status.busy": "2024-09-28T11:39:15.343026Z",
     "iopub.status.idle": "2024-09-28T11:39:17.912359Z",
     "shell.execute_reply": "2024-09-28T11:39:17.911270Z",
     "shell.execute_reply.started": "2024-09-28T11:39:15.343597Z"
    }
   },
   "outputs": [],
   "source": [
    "import matplotlib.pyplot as plt\n",
    "import seaborn as sns\n",
    "\n",
    "plt.style.use('ggplot')\n",
    "\n",
    "import nltk"
   ]
  },
  {
   "cell_type": "code",
   "execution_count": 12,
   "metadata": {
    "execution": {
     "iopub.execute_input": "2024-09-28T11:39:17.914562Z",
     "iopub.status.busy": "2024-09-28T11:39:17.913880Z",
     "iopub.status.idle": "2024-09-28T11:39:25.906957Z",
     "shell.execute_reply": "2024-09-28T11:39:25.905879Z",
     "shell.execute_reply.started": "2024-09-28T11:39:17.914507Z"
    }
   },
   "outputs": [
    {
     "data": {
      "application/javascript": [
       "\n",
       "        if (window._pyforest_update_imports_cell) { window._pyforest_update_imports_cell('import pandas as pd'); }\n",
       "    "
      ],
      "text/plain": [
       "<IPython.core.display.Javascript object>"
      ]
     },
     "metadata": {},
     "output_type": "display_data"
    }
   ],
   "source": [
    "# Read data\n",
    "df = pd.read_csv('Reviews_B0026RQTGE.csv', index_col='Id', usecols = lambda col : col != 'Unnamed: 0' )"
   ]
  },
  {
   "cell_type": "code",
   "execution_count": 13,
   "metadata": {},
   "outputs": [
    {
     "data": {
      "text/html": [
       "<div>\n",
       "<style scoped>\n",
       "    .dataframe tbody tr th:only-of-type {\n",
       "        vertical-align: middle;\n",
       "    }\n",
       "\n",
       "    .dataframe tbody tr th {\n",
       "        vertical-align: top;\n",
       "    }\n",
       "\n",
       "    .dataframe thead th {\n",
       "        text-align: right;\n",
       "    }\n",
       "</style>\n",
       "<table border=\"1\" class=\"dataframe\">\n",
       "  <thead>\n",
       "    <tr style=\"text-align: right;\">\n",
       "      <th></th>\n",
       "      <th>ProductId</th>\n",
       "      <th>UserId</th>\n",
       "      <th>ProfileName</th>\n",
       "      <th>HelpfulnessNumerator</th>\n",
       "      <th>HelpfulnessDenominator</th>\n",
       "      <th>Score</th>\n",
       "      <th>Time</th>\n",
       "      <th>Summary</th>\n",
       "      <th>Text</th>\n",
       "    </tr>\n",
       "    <tr>\n",
       "      <th>Id</th>\n",
       "      <th></th>\n",
       "      <th></th>\n",
       "      <th></th>\n",
       "      <th></th>\n",
       "      <th></th>\n",
       "      <th></th>\n",
       "      <th></th>\n",
       "      <th></th>\n",
       "      <th></th>\n",
       "    </tr>\n",
       "  </thead>\n",
       "  <tbody>\n",
       "    <tr>\n",
       "      <th>74632</th>\n",
       "      <td>B0026RQTGE</td>\n",
       "      <td>A21U4DR8M6I9QN</td>\n",
       "      <td>K. M Merrill \"justine\"</td>\n",
       "      <td>1</td>\n",
       "      <td>1</td>\n",
       "      <td>5</td>\n",
       "      <td>1318896000</td>\n",
       "      <td>addictive! but works for night coughing in dogs</td>\n",
       "      <td>my 12 year old sheltie has chronic brochotitis...</td>\n",
       "    </tr>\n",
       "    <tr>\n",
       "      <th>74633</th>\n",
       "      <td>B0026RQTGE</td>\n",
       "      <td>A17TDUBB4Z1PEC</td>\n",
       "      <td>jaded_green</td>\n",
       "      <td>1</td>\n",
       "      <td>1</td>\n",
       "      <td>5</td>\n",
       "      <td>1318550400</td>\n",
       "      <td>genuine Greenies best price</td>\n",
       "      <td>These are genuine Greenies product, not a knoc...</td>\n",
       "    </tr>\n",
       "    <tr>\n",
       "      <th>74634</th>\n",
       "      <td>B0026RQTGE</td>\n",
       "      <td>ABQH3WAWMSMBH</td>\n",
       "      <td>tenisbrat87</td>\n",
       "      <td>1</td>\n",
       "      <td>1</td>\n",
       "      <td>5</td>\n",
       "      <td>1317168000</td>\n",
       "      <td>Perfect for our little doggies</td>\n",
       "      <td>Our dogs love Greenies, but of course, which d...</td>\n",
       "    </tr>\n",
       "    <tr>\n",
       "      <th>74635</th>\n",
       "      <td>B0026RQTGE</td>\n",
       "      <td>AVTY5M74VA1BJ</td>\n",
       "      <td>tarotqueen</td>\n",
       "      <td>1</td>\n",
       "      <td>1</td>\n",
       "      <td>5</td>\n",
       "      <td>1316822400</td>\n",
       "      <td>dogs love greenies</td>\n",
       "      <td>What can I say, dogs love greenies. They begg ...</td>\n",
       "    </tr>\n",
       "    <tr>\n",
       "      <th>74636</th>\n",
       "      <td>B0026RQTGE</td>\n",
       "      <td>A13TNN54ZEAUB1</td>\n",
       "      <td>dcz2221</td>\n",
       "      <td>1</td>\n",
       "      <td>1</td>\n",
       "      <td>5</td>\n",
       "      <td>1316736000</td>\n",
       "      <td>Greenies review</td>\n",
       "      <td>This review is for a box of Greenies Lite for ...</td>\n",
       "    </tr>\n",
       "  </tbody>\n",
       "</table>\n",
       "</div>"
      ],
      "text/plain": [
       "        ProductId          UserId             ProfileName  \\\n",
       "Id                                                          \n",
       "74632  B0026RQTGE  A21U4DR8M6I9QN  K. M Merrill \"justine\"   \n",
       "74633  B0026RQTGE  A17TDUBB4Z1PEC             jaded_green   \n",
       "74634  B0026RQTGE   ABQH3WAWMSMBH             tenisbrat87   \n",
       "74635  B0026RQTGE   AVTY5M74VA1BJ              tarotqueen   \n",
       "74636  B0026RQTGE  A13TNN54ZEAUB1                 dcz2221   \n",
       "\n",
       "       HelpfulnessNumerator  HelpfulnessDenominator  Score        Time  \\\n",
       "Id                                                                       \n",
       "74632                     1                       1      5  1318896000   \n",
       "74633                     1                       1      5  1318550400   \n",
       "74634                     1                       1      5  1317168000   \n",
       "74635                     1                       1      5  1316822400   \n",
       "74636                     1                       1      5  1316736000   \n",
       "\n",
       "                                               Summary  \\\n",
       "Id                                                       \n",
       "74632  addictive! but works for night coughing in dogs   \n",
       "74633                      genuine Greenies best price   \n",
       "74634                   Perfect for our little doggies   \n",
       "74635                               dogs love greenies   \n",
       "74636                                  Greenies review   \n",
       "\n",
       "                                                    Text  \n",
       "Id                                                        \n",
       "74632  my 12 year old sheltie has chronic brochotitis...  \n",
       "74633  These are genuine Greenies product, not a knoc...  \n",
       "74634  Our dogs love Greenies, but of course, which d...  \n",
       "74635  What can I say, dogs love greenies. They begg ...  \n",
       "74636  This review is for a box of Greenies Lite for ...  "
      ]
     },
     "execution_count": 13,
     "metadata": {},
     "output_type": "execute_result"
    }
   ],
   "source": [
    "df.head()"
   ]
  },
  {
   "cell_type": "code",
   "execution_count": 4,
   "metadata": {
    "execution": {
     "iopub.execute_input": "2024-09-28T11:39:25.909854Z",
     "iopub.status.busy": "2024-09-28T11:39:25.909430Z",
     "iopub.status.idle": "2024-09-28T11:39:25.918103Z",
     "shell.execute_reply": "2024-09-28T11:39:25.916677Z",
     "shell.execute_reply.started": "2024-09-28T11:39:25.909812Z"
    }
   },
   "outputs": [
    {
     "data": {
      "text/plain": [
       "(632, 11)"
      ]
     },
     "execution_count": 4,
     "metadata": {},
     "output_type": "execute_result"
    }
   ],
   "source": [
    "df.shape"
   ]
  },
  {
   "cell_type": "code",
   "execution_count": 14,
   "metadata": {},
   "outputs": [
    {
     "data": {
      "text/plain": [
       "['my 12 year old sheltie has chronic brochotitis, been on meds for three years, these help with the coughing fits at night. so I like them!!!<br /> one bite and both my dogs are addicted!!! be warned!!! 7 pm both shelties are on my lap howling for the drug fix! I am a dog trainer and have never seen  anything like it....<br /><br />three weeks later,, the beloved sheltie got a bowel blockage from these, use with caution.<br />if the cat gets too many she has the runs....<br />sheltie did better when i upped her thryoid meds, and gave her doggie asthma meds.<br />so it worked better for the 18 year old cat, who also has asthma.',\n",
       " 'These are genuine Greenies product, not a knockoff.  My dogs love them!  It is their favorite treat.  I have 2 small dogs, both under 10 lbs. and the Teenie size is perfect for them.  I paid $22.37 for this 96-pack and it is by far the best price I have found anywhere.  I wish these were part of the Subscribe & Save program.',\n",
       " \"Our dogs love Greenies, but of course, which doggies don't?  I bought this for my dashchund and minpin, and it's perfect!  A great price for a great product.  Who could ask for more.\"]"
      ]
     },
     "execution_count": 14,
     "metadata": {},
     "output_type": "execute_result"
    }
   ],
   "source": [
    "#Reading some reviews\n",
    "df.iloc[0:3, 8].to_list()"
   ]
  },
  {
   "cell_type": "markdown",
   "metadata": {},
   "source": [
    "# From reading the reviews, it looks like the product is a pet edible product."
   ]
  },
  {
   "cell_type": "code",
   "execution_count": 17,
   "metadata": {
    "execution": {
     "iopub.execute_input": "2024-09-28T11:39:26.416557Z",
     "iopub.status.busy": "2024-09-28T11:39:26.416099Z",
     "iopub.status.idle": "2024-09-28T11:39:26.648763Z",
     "shell.execute_reply": "2024-09-28T11:39:26.647539Z",
     "shell.execute_reply.started": "2024-09-28T11:39:26.416507Z"
    }
   },
   "outputs": [
    {
     "data": {
      "text/plain": [
       "<Axes: xlabel='Score', ylabel='count'>"
      ]
     },
     "execution_count": 17,
     "metadata": {},
     "output_type": "execute_result"
    },
    {
     "data": {
      "image/png": "[encoded data removed]",
      "text/plain": [
       "<Figure size 640x480 with 1 Axes>"
      ]
     },
     "metadata": {},
     "output_type": "display_data"
    }
   ],
   "source": [
    "#Lets see the distribution of review scores for this product\n",
    "sns.countplot(x='Score', data=df)"
   ]
  },
  {
   "cell_type": "code",
   "execution_count": 18,
   "metadata": {
    "execution": {
     "iopub.execute_input": "2024-09-28T11:39:26.650499Z",
     "iopub.status.busy": "2024-09-28T11:39:26.650123Z",
     "iopub.status.idle": "2024-09-28T11:39:26.658444Z",
     "shell.execute_reply": "2024-09-28T11:39:26.657200Z",
     "shell.execute_reply.started": "2024-09-28T11:39:26.650451Z"
    }
   },
   "outputs": [
    {
     "data": {
      "text/plain": [
       "4.5886075949367084"
      ]
     },
     "execution_count": 18,
     "metadata": {},
     "output_type": "execute_result"
    }
   ],
   "source": [
    "#Getting Average score of the product\n",
    "avg_product_score = df['Score'].mean()\n",
    "avg_product_score"
   ]
  },
  {
   "cell_type": "markdown",
   "metadata": {},
   "source": [
    "# VADER Approach"
   ]
  },
  {
   "cell_type": "code",
   "execution_count": 19,
   "metadata": {
    "execution": {
     "iopub.execute_input": "2024-09-28T11:39:26.665397Z",
     "iopub.status.busy": "2024-09-28T11:39:26.664990Z",
     "iopub.status.idle": "2024-09-28T11:39:26.689053Z",
     "shell.execute_reply": "2024-09-28T11:39:26.688002Z",
     "shell.execute_reply.started": "2024-09-28T11:39:26.665354Z"
    }
   },
   "outputs": [],
   "source": [
    "from nltk.sentiment import SentimentIntensityAnalyzer\n",
    "from tqdm.notebook import tqdm"
   ]
  },
  {
   "cell_type": "code",
   "execution_count": 21,
   "metadata": {},
   "outputs": [
    {
     "name": "stderr",
     "output_type": "stream",
     "text": [
      "[nltk_data] Downloading package vader_lexicon to\n",
      "[nltk_data]     C:\\Users\\harshit\\AppData\\Roaming\\nltk_data...\n"
     ]
    },
    {
     "data": {
      "text/plain": [
       "True"
      ]
     },
     "execution_count": 21,
     "metadata": {},
     "output_type": "execute_result"
    }
   ],
   "source": [
    "#Downloading the vader lexicon\n",
    "nltk.download('vader_lexicon')"
   ]
  },
  {
   "cell_type": "code",
   "execution_count": 22,
   "metadata": {
    "execution": {
     "iopub.execute_input": "2024-09-28T11:39:26.690874Z",
     "iopub.status.busy": "2024-09-28T11:39:26.690466Z",
     "iopub.status.idle": "2024-09-28T11:39:26.712961Z",
     "shell.execute_reply": "2024-09-28T11:39:26.711981Z",
     "shell.execute_reply.started": "2024-09-28T11:39:26.690834Z"
    }
   },
   "outputs": [],
   "source": [
    "#Initializing SIA. A vader method based sentiment analyzer tool.\n",
    "sia = SentimentIntensityAnalyzer()"
   ]
  },
  {
   "cell_type": "code",
   "execution_count": 23,
   "metadata": {
    "execution": {
     "iopub.execute_input": "2024-09-28T11:39:26.714490Z",
     "iopub.status.busy": "2024-09-28T11:39:26.714172Z",
     "iopub.status.idle": "2024-09-28T11:39:26.722466Z",
     "shell.execute_reply": "2024-09-28T11:39:26.721063Z",
     "shell.execute_reply.started": "2024-09-28T11:39:26.714455Z"
    }
   },
   "outputs": [
    {
     "data": {
      "text/plain": [
       "{'neg': 0.0, 'neu': 0.541, 'pos': 0.459, 'compound': 0.7783}"
      ]
     },
     "execution_count": 23,
     "metadata": {},
     "output_type": "execute_result"
    }
   ],
   "source": [
    "# Testing the polarity score\n",
    "sia.polarity_scores('I was first in that race, hence won the gold medal')"
   ]
  },
  {
   "cell_type": "code",
   "execution_count": 24,
   "metadata": {
    "execution": {
     "iopub.execute_input": "2024-09-28T11:39:26.724622Z",
     "iopub.status.busy": "2024-09-28T11:39:26.724177Z",
     "iopub.status.idle": "2024-09-28T11:39:27.374050Z",
     "shell.execute_reply": "2024-09-28T11:39:27.373054Z",
     "shell.execute_reply.started": "2024-09-28T11:39:26.724572Z"
    }
   },
   "outputs": [],
   "source": [
    "#Applying the polarity score on our reviews\n",
    "vaders_result = df['Text'].apply(lambda x:sia.polarity_scores(x)) \n"
   ]
  },
  {
   "cell_type": "code",
   "execution_count": 25,
   "metadata": {
    "execution": {
     "iopub.execute_input": "2024-09-28T11:39:27.375782Z",
     "iopub.status.busy": "2024-09-28T11:39:27.375380Z",
     "iopub.status.idle": "2024-09-28T11:39:28.160932Z",
     "shell.execute_reply": "2024-09-28T11:39:28.159712Z",
     "shell.execute_reply.started": "2024-09-28T11:39:27.375741Z"
    }
   },
   "outputs": [
    {
     "data": {
      "application/vnd.jupyter.widget-view+json": {
       "model_id": "975e309b31da4a49a85d5a47f53dfaa8",
       "version_major": 2,
       "version_minor": 0
      },
      "text/plain": [
       "  0%|          | 0/632 [00:00<?, ?it/s]"
      ]
     },
     "metadata": {},
     "output_type": "display_data"
    }
   ],
   "source": [
    "vader_senti_scores = {}\n",
    "for i, row in tqdm(df.iterrows(), total=len(df)):\n",
    "    text = row['Text']\n",
    "    \n",
    "    #doing sentiment prediction using vader\n",
    "    vader_result = sia.polarity_scores(text)\n",
    "    vader_scores = {}\n",
    "    for key, value in vader_result.items():\n",
    "        vader_scores[f'vader_{key}'] = value\n",
    "    \n",
    "    vader_senti_scores[i] = vader_scores\n",
    "    \n",
    "    "
   ]
  },
  {
   "cell_type": "code",
   "execution_count": 26,
   "metadata": {
    "execution": {
     "iopub.execute_input": "2024-09-28T11:39:59.351855Z",
     "iopub.status.busy": "2024-09-28T11:39:59.351073Z",
     "iopub.status.idle": "2024-09-28T11:39:59.369356Z",
     "shell.execute_reply": "2024-09-28T11:39:59.368243Z",
     "shell.execute_reply.started": "2024-09-28T11:39:59.351808Z"
    }
   },
   "outputs": [
    {
     "data": {
      "application/javascript": [
       "\n",
       "        if (window._pyforest_update_imports_cell) { window._pyforest_update_imports_cell('import pandas as pd'); }\n",
       "    "
      ],
      "text/plain": [
       "<IPython.core.display.Javascript object>"
      ]
     },
     "metadata": {},
     "output_type": "display_data"
    },
    {
     "data": {
      "text/html": [
       "<div>\n",
       "<style scoped>\n",
       "    .dataframe tbody tr th:only-of-type {\n",
       "        vertical-align: middle;\n",
       "    }\n",
       "\n",
       "    .dataframe tbody tr th {\n",
       "        vertical-align: top;\n",
       "    }\n",
       "\n",
       "    .dataframe thead th {\n",
       "        text-align: right;\n",
       "    }\n",
       "</style>\n",
       "<table border=\"1\" class=\"dataframe\">\n",
       "  <thead>\n",
       "    <tr style=\"text-align: right;\">\n",
       "      <th></th>\n",
       "      <th>vader_neg</th>\n",
       "      <th>vader_neu</th>\n",
       "      <th>vader_pos</th>\n",
       "      <th>vader_compound</th>\n",
       "    </tr>\n",
       "  </thead>\n",
       "  <tbody>\n",
       "    <tr>\n",
       "      <th>74632</th>\n",
       "      <td>0.017</td>\n",
       "      <td>0.828</td>\n",
       "      <td>0.155</td>\n",
       "      <td>0.9542</td>\n",
       "    </tr>\n",
       "    <tr>\n",
       "      <th>74633</th>\n",
       "      <td>0.000</td>\n",
       "      <td>0.671</td>\n",
       "      <td>0.329</td>\n",
       "      <td>0.9750</td>\n",
       "    </tr>\n",
       "    <tr>\n",
       "      <th>74634</th>\n",
       "      <td>0.000</td>\n",
       "      <td>0.575</td>\n",
       "      <td>0.425</td>\n",
       "      <td>0.9692</td>\n",
       "    </tr>\n",
       "    <tr>\n",
       "      <th>74635</th>\n",
       "      <td>0.000</td>\n",
       "      <td>0.840</td>\n",
       "      <td>0.160</td>\n",
       "      <td>0.6369</td>\n",
       "    </tr>\n",
       "    <tr>\n",
       "      <th>74636</th>\n",
       "      <td>0.000</td>\n",
       "      <td>0.901</td>\n",
       "      <td>0.099</td>\n",
       "      <td>0.4754</td>\n",
       "    </tr>\n",
       "    <tr>\n",
       "      <th>...</th>\n",
       "      <td>...</td>\n",
       "      <td>...</td>\n",
       "      <td>...</td>\n",
       "      <td>...</td>\n",
       "    </tr>\n",
       "    <tr>\n",
       "      <th>75259</th>\n",
       "      <td>0.050</td>\n",
       "      <td>0.587</td>\n",
       "      <td>0.363</td>\n",
       "      <td>0.9760</td>\n",
       "    </tr>\n",
       "    <tr>\n",
       "      <th>75260</th>\n",
       "      <td>0.000</td>\n",
       "      <td>0.713</td>\n",
       "      <td>0.287</td>\n",
       "      <td>0.9624</td>\n",
       "    </tr>\n",
       "    <tr>\n",
       "      <th>75261</th>\n",
       "      <td>0.000</td>\n",
       "      <td>0.585</td>\n",
       "      <td>0.415</td>\n",
       "      <td>0.9618</td>\n",
       "    </tr>\n",
       "    <tr>\n",
       "      <th>75262</th>\n",
       "      <td>0.034</td>\n",
       "      <td>0.765</td>\n",
       "      <td>0.201</td>\n",
       "      <td>0.9186</td>\n",
       "    </tr>\n",
       "    <tr>\n",
       "      <th>75263</th>\n",
       "      <td>0.000</td>\n",
       "      <td>0.767</td>\n",
       "      <td>0.233</td>\n",
       "      <td>0.8360</td>\n",
       "    </tr>\n",
       "  </tbody>\n",
       "</table>\n",
       "<p>632 rows × 4 columns</p>\n",
       "</div>"
      ],
      "text/plain": [
       "       vader_neg  vader_neu  vader_pos  vader_compound\n",
       "74632      0.017      0.828      0.155          0.9542\n",
       "74633      0.000      0.671      0.329          0.9750\n",
       "74634      0.000      0.575      0.425          0.9692\n",
       "74635      0.000      0.840      0.160          0.6369\n",
       "74636      0.000      0.901      0.099          0.4754\n",
       "...          ...        ...        ...             ...\n",
       "75259      0.050      0.587      0.363          0.9760\n",
       "75260      0.000      0.713      0.287          0.9624\n",
       "75261      0.000      0.585      0.415          0.9618\n",
       "75262      0.034      0.765      0.201          0.9186\n",
       "75263      0.000      0.767      0.233          0.8360\n",
       "\n",
       "[632 rows x 4 columns]"
      ]
     },
     "execution_count": 26,
     "metadata": {},
     "output_type": "execute_result"
    }
   ],
   "source": [
    "vader_senti_scores = pd.DataFrame(vader_senti_scores)\n",
    "vader_senti_scores = vader_senti_scores.T\n",
    "vader_senti_scores"
   ]
  },
  {
   "cell_type": "code",
   "execution_count": 27,
   "metadata": {
    "execution": {
     "iopub.execute_input": "2024-09-28T11:41:10.286567Z",
     "iopub.status.busy": "2024-09-28T11:41:10.286113Z",
     "iopub.status.idle": "2024-09-28T11:41:10.304508Z",
     "shell.execute_reply": "2024-09-28T11:41:10.303290Z",
     "shell.execute_reply.started": "2024-09-28T11:41:10.286523Z"
    }
   },
   "outputs": [
    {
     "data": {
      "application/javascript": [
       "\n",
       "        if (window._pyforest_update_imports_cell) { window._pyforest_update_imports_cell('import pandas as pd'); }\n",
       "    "
      ],
      "text/plain": [
       "<IPython.core.display.Javascript object>"
      ]
     },
     "metadata": {},
     "output_type": "display_data"
    },
    {
     "data": {
      "text/html": [
       "<div>\n",
       "<style scoped>\n",
       "    .dataframe tbody tr th:only-of-type {\n",
       "        vertical-align: middle;\n",
       "    }\n",
       "\n",
       "    .dataframe tbody tr th {\n",
       "        vertical-align: top;\n",
       "    }\n",
       "\n",
       "    .dataframe thead th {\n",
       "        text-align: right;\n",
       "    }\n",
       "</style>\n",
       "<table border=\"1\" class=\"dataframe\">\n",
       "  <thead>\n",
       "    <tr style=\"text-align: right;\">\n",
       "      <th></th>\n",
       "      <th>Summary</th>\n",
       "      <th>Text</th>\n",
       "      <th>Score</th>\n",
       "      <th>vader_neg</th>\n",
       "      <th>vader_neu</th>\n",
       "      <th>vader_pos</th>\n",
       "      <th>vader_compound</th>\n",
       "    </tr>\n",
       "  </thead>\n",
       "  <tbody>\n",
       "    <tr>\n",
       "      <th>74632</th>\n",
       "      <td>addictive! but works for night coughing in dogs</td>\n",
       "      <td>my 12 year old sheltie has chronic brochotitis...</td>\n",
       "      <td>5</td>\n",
       "      <td>0.017</td>\n",
       "      <td>0.828</td>\n",
       "      <td>0.155</td>\n",
       "      <td>0.9542</td>\n",
       "    </tr>\n",
       "    <tr>\n",
       "      <th>74633</th>\n",
       "      <td>genuine Greenies best price</td>\n",
       "      <td>These are genuine Greenies product, not a knoc...</td>\n",
       "      <td>5</td>\n",
       "      <td>0.000</td>\n",
       "      <td>0.671</td>\n",
       "      <td>0.329</td>\n",
       "      <td>0.9750</td>\n",
       "    </tr>\n",
       "    <tr>\n",
       "      <th>74634</th>\n",
       "      <td>Perfect for our little doggies</td>\n",
       "      <td>Our dogs love Greenies, but of course, which d...</td>\n",
       "      <td>5</td>\n",
       "      <td>0.000</td>\n",
       "      <td>0.575</td>\n",
       "      <td>0.425</td>\n",
       "      <td>0.9692</td>\n",
       "    </tr>\n",
       "    <tr>\n",
       "      <th>74635</th>\n",
       "      <td>dogs love greenies</td>\n",
       "      <td>What can I say, dogs love greenies. They begg ...</td>\n",
       "      <td>5</td>\n",
       "      <td>0.000</td>\n",
       "      <td>0.840</td>\n",
       "      <td>0.160</td>\n",
       "      <td>0.6369</td>\n",
       "    </tr>\n",
       "    <tr>\n",
       "      <th>74636</th>\n",
       "      <td>Greenies review</td>\n",
       "      <td>This review is for a box of Greenies Lite for ...</td>\n",
       "      <td>5</td>\n",
       "      <td>0.000</td>\n",
       "      <td>0.901</td>\n",
       "      <td>0.099</td>\n",
       "      <td>0.4754</td>\n",
       "    </tr>\n",
       "  </tbody>\n",
       "</table>\n",
       "</div>"
      ],
      "text/plain": [
       "                                               Summary  \\\n",
       "74632  addictive! but works for night coughing in dogs   \n",
       "74633                      genuine Greenies best price   \n",
       "74634                   Perfect for our little doggies   \n",
       "74635                               dogs love greenies   \n",
       "74636                                  Greenies review   \n",
       "\n",
       "                                                    Text  Score  vader_neg  \\\n",
       "74632  my 12 year old sheltie has chronic brochotitis...      5      0.017   \n",
       "74633  These are genuine Greenies product, not a knoc...      5      0.000   \n",
       "74634  Our dogs love Greenies, but of course, which d...      5      0.000   \n",
       "74635  What can I say, dogs love greenies. They begg ...      5      0.000   \n",
       "74636  This review is for a box of Greenies Lite for ...      5      0.000   \n",
       "\n",
       "       vader_neu  vader_pos  vader_compound  \n",
       "74632      0.828      0.155          0.9542  \n",
       "74633      0.671      0.329          0.9750  \n",
       "74634      0.575      0.425          0.9692  \n",
       "74635      0.840      0.160          0.6369  \n",
       "74636      0.901      0.099          0.4754  "
      ]
     },
     "execution_count": 27,
     "metadata": {},
     "output_type": "execute_result"
    }
   ],
   "source": [
    "vader_senti_scores = pd.concat([df[['Summary', 'Text', 'Score']], vader_senti_scores], axis=1)\n",
    "vader_senti_scores.head()"
   ]
  },
  {
   "cell_type": "markdown",
   "metadata": {},
   "source": []
  },
  {
   "cell_type": "markdown",
   "metadata": {},
   "source": [
    "# Roberta Pretrained Model"
   ]
  },
  {
   "cell_type": "code",
   "execution_count": 30,
   "metadata": {
    "execution": {
     "iopub.execute_input": "2024-09-28T11:42:21.820068Z",
     "iopub.status.busy": "2024-09-28T11:42:21.819645Z",
     "iopub.status.idle": "2024-09-28T11:42:25.897659Z",
     "shell.execute_reply": "2024-09-28T11:42:25.896430Z",
     "shell.execute_reply.started": "2024-09-28T11:42:21.820029Z"
    }
   },
   "outputs": [],
   "source": [
    "from transformers import AutoTokenizer, AutoModelForSequenceClassification\n",
    "from scipy.special import softmax"
   ]
  },
  {
   "cell_type": "code",
   "execution_count": 31,
   "metadata": {
    "execution": {
     "iopub.execute_input": "2024-09-28T11:42:25.900195Z",
     "iopub.status.busy": "2024-09-28T11:42:25.899578Z",
     "iopub.status.idle": "2024-09-28T11:42:34.915743Z",
     "shell.execute_reply": "2024-09-28T11:42:34.914480Z",
     "shell.execute_reply.started": "2024-09-28T11:42:25.900154Z"
    }
   },
   "outputs": [
    {
     "name": "stderr",
     "output_type": "stream",
     "text": [
      "D:\\Program Files\\Anaconda\\Lib\\site-packages\\transformers\\utils\\generic.py:260: FutureWarning: `torch.utils._pytree._register_pytree_node` is deprecated. Please use `torch.utils._pytree.register_pytree_node` instead.\n",
      "  torch.utils._pytree._register_pytree_node(\n",
      "D:\\Program Files\\Anaconda\\Lib\\site-packages\\transformers\\modeling_utils.py:479: FutureWarning: You are using `torch.load` with `weights_only=False` (the current default value), which uses the default pickle module implicitly. It is possible to construct malicious pickle data which will execute arbitrary code during unpickling (See https://github.com/pytorch/pytorch/blob/main/SECURITY.md#untrusted-models for more details). In a future release, the default value for `weights_only` will be flipped to `True`. This limits the functions that could be executed during unpickling. Arbitrary objects will no longer be allowed to be loaded via this mode unless they are explicitly allowlisted by the user via `torch.serialization.add_safe_globals`. We recommend you start setting `weights_only=True` for any use case where you don't have full control of the loaded file. Please open an issue on GitHub for any issues related to this experimental feature.\n",
      "  return torch.load(checkpoint_file, map_location=map_location)\n"
     ]
    }
   ],
   "source": [
    "#Fetching the model and its tokenizer. It will download the model from hugging face \n",
    "MODEL = f\"cardiffnlp/twitter-roberta-base-sentiment\"\n",
    "tokenizer = AutoTokenizer.from_pretrained(MODEL)\n",
    "model = AutoModelForSequenceClassification.from_pretrained(MODEL)"
   ]
  },
  {
   "cell_type": "code",
   "execution_count": 34,
   "metadata": {},
   "outputs": [
    {
     "data": {
      "text/plain": [
       "('../Model_and_Tokenizer/cardiffnlp/twitter-roberta-base-sentiment\\\\tokenizer_config.json',\n",
       " '../Model_and_Tokenizer/cardiffnlp/twitter-roberta-base-sentiment\\\\special_tokens_map.json',\n",
       " '../Model_and_Tokenizer/cardiffnlp/twitter-roberta-base-sentiment\\\\vocab.json',\n",
       " '../Model_and_Tokenizer/cardiffnlp/twitter-roberta-base-sentiment\\\\merges.txt',\n",
       " '../Model_and_Tokenizer/cardiffnlp/twitter-roberta-base-sentiment\\\\added_tokens.json',\n",
       " '../Model_and_Tokenizer/cardiffnlp/twitter-roberta-base-sentiment\\\\tokenizer.json')"
      ]
     },
     "execution_count": 34,
     "metadata": {},
     "output_type": "execute_result"
    }
   ],
   "source": [
    "#saving the model in a directory for using it later without the need for downloading\n",
    "model_directory = r'../Model_and_Tokenizer/cardiffnlp/twitter-roberta-base-sentiment'\n",
    "model.save_pretrained(model_directory)\n",
    "tokenizer.save_pretrained(model_directory)"
   ]
  },
  {
   "cell_type": "markdown",
   "metadata": {},
   "source": [
    "# Testing the Roberta model"
   ]
  },
  {
   "cell_type": "code",
   "execution_count": 32,
   "metadata": {
    "execution": {
     "iopub.execute_input": "2024-09-28T11:42:39.018103Z",
     "iopub.status.busy": "2024-09-28T11:42:39.017443Z",
     "iopub.status.idle": "2024-09-28T11:42:39.030358Z",
     "shell.execute_reply": "2024-09-28T11:42:39.029031Z",
     "shell.execute_reply.started": "2024-09-28T11:42:39.018056Z"
    }
   },
   "outputs": [],
   "source": [
    "example = 'The movie was best of its kind '\n",
    "tokenized_data = tokenizer(example, return_tensors='pt')"
   ]
  },
  {
   "cell_type": "code",
   "execution_count": 33,
   "metadata": {
    "execution": {
     "iopub.execute_input": "2024-09-28T11:42:40.046734Z",
     "iopub.status.busy": "2024-09-28T11:42:40.045670Z",
     "iopub.status.idle": "2024-09-28T11:42:40.060789Z",
     "shell.execute_reply": "2024-09-28T11:42:40.059439Z",
     "shell.execute_reply.started": "2024-09-28T11:42:40.046651Z"
    }
   },
   "outputs": [
    {
     "data": {
      "text/plain": [
       "{'input_ids': tensor([[   0,  133, 1569,   21,  275,    9,   63,  761, 1437,    2]]), 'attention_mask': tensor([[1, 1, 1, 1, 1, 1, 1, 1, 1, 1]])}"
      ]
     },
     "execution_count": 33,
     "metadata": {},
     "output_type": "execute_result"
    }
   ],
   "source": [
    "tokenized_data"
   ]
  },
  {
   "cell_type": "code",
   "execution_count": 35,
   "metadata": {
    "execution": {
     "iopub.execute_input": "2024-09-28T11:42:45.423131Z",
     "iopub.status.busy": "2024-09-28T11:42:45.421987Z",
     "iopub.status.idle": "2024-09-28T11:42:45.618860Z",
     "shell.execute_reply": "2024-09-28T11:42:45.617592Z",
     "shell.execute_reply.started": "2024-09-28T11:42:45.423083Z"
    }
   },
   "outputs": [
    {
     "data": {
      "text/plain": [
       "SequenceClassifierOutput(loss=None, logits=tensor([[-2.6524, -0.1715,  3.4681]], grad_fn=<AddmmBackward0>), hidden_states=None, attentions=None)"
      ]
     },
     "execution_count": 35,
     "metadata": {},
     "output_type": "execute_result"
    }
   ],
   "source": [
    "results = model(**tokenized_data)\n",
    "results"
   ]
  },
  {
   "cell_type": "code",
   "execution_count": 36,
   "metadata": {
    "execution": {
     "iopub.execute_input": "2024-09-28T11:42:46.581942Z",
     "iopub.status.busy": "2024-09-28T11:42:46.581461Z",
     "iopub.status.idle": "2024-09-28T11:42:46.591908Z",
     "shell.execute_reply": "2024-09-28T11:42:46.590648Z",
     "shell.execute_reply.started": "2024-09-28T11:42:46.581895Z"
    }
   },
   "outputs": [
    {
     "data": {
      "text/plain": [
       "array([0.00213645, 0.02553419, 0.9723293 ], dtype=float32)"
      ]
     },
     "execution_count": 36,
     "metadata": {},
     "output_type": "execute_result"
    }
   ],
   "source": [
    "sentiment_scores_roberta = results[0][0].detach().numpy()\n",
    "sentiment_scores_roberta = softmax(sentiment_scores_roberta)\n",
    "sentiment_scores_roberta"
   ]
  },
  {
   "cell_type": "code",
   "execution_count": 37,
   "metadata": {
    "execution": {
     "iopub.execute_input": "2024-09-28T11:42:47.661206Z",
     "iopub.status.busy": "2024-09-28T11:42:47.660120Z",
     "iopub.status.idle": "2024-09-28T11:42:47.667688Z",
     "shell.execute_reply": "2024-09-28T11:42:47.666539Z",
     "shell.execute_reply.started": "2024-09-28T11:42:47.661156Z"
    }
   },
   "outputs": [],
   "source": [
    "# Define function to give out sentiment scores of roberta model\n",
    "def get_roberta_scores(text):\n",
    "    token_ids = tokenizer(text, return_tensors='pt')\n",
    "    roberta_scores = model(**token_ids)\n",
    "    roberta_scores = roberta_scores[0][0].detach()\n",
    "    roberta_scores = softmax(roberta_scores)\n",
    "    roberta_scores_dict = {\n",
    "        'roberta_negative': roberta_scores[0],\n",
    "        'roberta_neutral': roberta_scores[1],\n",
    "        'roberta_positive': roberta_scores[2]\n",
    "\n",
    "    }\n",
    "    return roberta_scores_dict"
   ]
  },
  {
   "cell_type": "code",
   "execution_count": 38,
   "metadata": {
    "execution": {
     "iopub.execute_input": "2024-09-28T11:43:02.279678Z",
     "iopub.status.busy": "2024-09-28T11:43:02.278394Z",
     "iopub.status.idle": "2024-09-28T11:43:02.342892Z",
     "shell.execute_reply": "2024-09-28T11:43:02.341729Z",
     "shell.execute_reply.started": "2024-09-28T11:43:02.279631Z"
    }
   },
   "outputs": [
    {
     "name": "stdout",
     "output_type": "stream",
     "text": [
      "{'roberta_negative': 0.002136452, 'roberta_neutral': 0.025534194, 'roberta_positive': 0.9723293}\n"
     ]
    }
   ],
   "source": [
    "#Testing the above function\n",
    "print(get_roberta_scores(example))"
   ]
  },
  {
   "cell_type": "code",
   "execution_count": 39,
   "metadata": {
    "execution": {
     "iopub.execute_input": "2024-09-28T11:43:03.940555Z",
     "iopub.status.busy": "2024-09-28T11:43:03.939818Z",
     "iopub.status.idle": "2024-09-28T11:45:03.286566Z",
     "shell.execute_reply": "2024-09-28T11:45:03.285262Z",
     "shell.execute_reply.started": "2024-09-28T11:43:03.940507Z"
    }
   },
   "outputs": [
    {
     "data": {
      "application/vnd.jupyter.widget-view+json": {
       "model_id": "e194650ad7994f3f8fac239a4e28f67f",
       "version_major": 2,
       "version_minor": 0
      },
      "text/plain": [
       "  0%|          | 0/632 [00:00<?, ?it/s]"
      ]
     },
     "metadata": {},
     "output_type": "display_data"
    },
    {
     "name": "stdout",
     "output_type": "stream",
     "text": [
      "Error for id : 74766\n"
     ]
    }
   ],
   "source": [
    "#Performing the sentiment analysis using bothe Vader and Roberta model on out dataset\n",
    "vader_roberta_senti_scores = {}\n",
    "\n",
    "for i, row in tqdm(df.iterrows(), total=len(df)):\n",
    "    try :\n",
    "        text = row['Text']\n",
    "\n",
    "        #doing sentiment prediction using vader\n",
    "        vader_result = sia.polarity_scores(text)\n",
    "        vader_scores = {}\n",
    "        for key, value in vader_result.items():\n",
    "            vader_scores[f'vader_{key}'] = value\n",
    "\n",
    "        #doing sentiment prediction using roberta\n",
    "        roberta_scores = get_roberta_scores(text)\n",
    "\n",
    "        vader_roberta_senti_scores[i] = {**vader_scores, **roberta_scores}\n",
    "    \n",
    "    except RuntimeError:\n",
    "            print('Error for id :', i)"
   ]
  },
  {
   "cell_type": "code",
   "execution_count": 40,
   "metadata": {
    "execution": {
     "iopub.execute_input": "2024-09-28T11:46:32.532931Z",
     "iopub.status.busy": "2024-09-28T11:46:32.532237Z",
     "iopub.status.idle": "2024-09-28T11:46:32.576229Z",
     "shell.execute_reply": "2024-09-28T11:46:32.575115Z",
     "shell.execute_reply.started": "2024-09-28T11:46:32.532670Z"
    }
   },
   "outputs": [
    {
     "data": {
      "application/javascript": [
       "\n",
       "        if (window._pyforest_update_imports_cell) { window._pyforest_update_imports_cell('import pandas as pd'); }\n",
       "    "
      ],
      "text/plain": [
       "<IPython.core.display.Javascript object>"
      ]
     },
     "metadata": {},
     "output_type": "display_data"
    },
    {
     "data": {
      "text/html": [
       "<div>\n",
       "<style scoped>\n",
       "    .dataframe tbody tr th:only-of-type {\n",
       "        vertical-align: middle;\n",
       "    }\n",
       "\n",
       "    .dataframe tbody tr th {\n",
       "        vertical-align: top;\n",
       "    }\n",
       "\n",
       "    .dataframe thead th {\n",
       "        text-align: right;\n",
       "    }\n",
       "</style>\n",
       "<table border=\"1\" class=\"dataframe\">\n",
       "  <thead>\n",
       "    <tr style=\"text-align: right;\">\n",
       "      <th></th>\n",
       "      <th>vader_neg</th>\n",
       "      <th>vader_neu</th>\n",
       "      <th>vader_pos</th>\n",
       "      <th>vader_compound</th>\n",
       "      <th>roberta_negative</th>\n",
       "      <th>roberta_neutral</th>\n",
       "      <th>roberta_positive</th>\n",
       "    </tr>\n",
       "  </thead>\n",
       "  <tbody>\n",
       "    <tr>\n",
       "      <th>74632</th>\n",
       "      <td>0.017</td>\n",
       "      <td>0.828</td>\n",
       "      <td>0.155</td>\n",
       "      <td>0.9542</td>\n",
       "      <td>0.034747</td>\n",
       "      <td>0.154147</td>\n",
       "      <td>0.811106</td>\n",
       "    </tr>\n",
       "    <tr>\n",
       "      <th>74633</th>\n",
       "      <td>0.000</td>\n",
       "      <td>0.671</td>\n",
       "      <td>0.329</td>\n",
       "      <td>0.9750</td>\n",
       "      <td>0.001693</td>\n",
       "      <td>0.010387</td>\n",
       "      <td>0.987920</td>\n",
       "    </tr>\n",
       "    <tr>\n",
       "      <th>74634</th>\n",
       "      <td>0.000</td>\n",
       "      <td>0.575</td>\n",
       "      <td>0.425</td>\n",
       "      <td>0.9692</td>\n",
       "      <td>0.002031</td>\n",
       "      <td>0.009127</td>\n",
       "      <td>0.988842</td>\n",
       "    </tr>\n",
       "    <tr>\n",
       "      <th>74635</th>\n",
       "      <td>0.000</td>\n",
       "      <td>0.840</td>\n",
       "      <td>0.160</td>\n",
       "      <td>0.6369</td>\n",
       "      <td>0.014033</td>\n",
       "      <td>0.089241</td>\n",
       "      <td>0.896727</td>\n",
       "    </tr>\n",
       "    <tr>\n",
       "      <th>74636</th>\n",
       "      <td>0.000</td>\n",
       "      <td>0.901</td>\n",
       "      <td>0.099</td>\n",
       "      <td>0.4754</td>\n",
       "      <td>0.001545</td>\n",
       "      <td>0.023084</td>\n",
       "      <td>0.975371</td>\n",
       "    </tr>\n",
       "  </tbody>\n",
       "</table>\n",
       "</div>"
      ],
      "text/plain": [
       "       vader_neg  vader_neu  vader_pos  vader_compound  roberta_negative  \\\n",
       "74632      0.017      0.828      0.155          0.9542          0.034747   \n",
       "74633      0.000      0.671      0.329          0.9750          0.001693   \n",
       "74634      0.000      0.575      0.425          0.9692          0.002031   \n",
       "74635      0.000      0.840      0.160          0.6369          0.014033   \n",
       "74636      0.000      0.901      0.099          0.4754          0.001545   \n",
       "\n",
       "       roberta_neutral  roberta_positive  \n",
       "74632         0.154147          0.811106  \n",
       "74633         0.010387          0.987920  \n",
       "74634         0.009127          0.988842  \n",
       "74635         0.089241          0.896727  \n",
       "74636         0.023084          0.975371  "
      ]
     },
     "execution_count": 40,
     "metadata": {},
     "output_type": "execute_result"
    }
   ],
   "source": [
    "#Creating dataframe for the sentiment score of all the reviews\n",
    "vader_roberta_senti_scores = pd.DataFrame(vader_roberta_senti_scores)\n",
    "\n",
    "#The dataframe is created in horizontal alignment, so making it vertical\n",
    "vader_roberta_senti_scores = vader_roberta_senti_scores.T\n",
    "vader_roberta_senti_scores.head()"
   ]
  },
  {
   "cell_type": "code",
   "execution_count": 66,
   "metadata": {},
   "outputs": [
    {
     "data": {
      "text/plain": [
       "<Axes: xlabel='Score', ylabel='vader_compound'>"
      ]
     },
     "execution_count": 66,
     "metadata": {},
     "output_type": "execute_result"
    },
    {
     "data": {
      "image/png": "[encoded data removed]",
      "text/plain": [
       "<Figure size 640x480 with 1 Axes>"
      ]
     },
     "metadata": {},
     "output_type": "display_data"
    }
   ],
   "source": []
  },
  {
   "cell_type": "markdown",
   "metadata": {},
   "source": []
  },
  {
   "cell_type": "code",
   "execution_count": 41,
   "metadata": {
    "execution": {
     "iopub.execute_input": "2024-09-28T11:48:17.500281Z",
     "iopub.status.busy": "2024-09-28T11:48:17.499183Z",
     "iopub.status.idle": "2024-09-28T11:48:17.523425Z",
     "shell.execute_reply": "2024-09-28T11:48:17.522103Z",
     "shell.execute_reply.started": "2024-09-28T11:48:17.500215Z"
    }
   },
   "outputs": [
    {
     "data": {
      "application/javascript": [
       "\n",
       "        if (window._pyforest_update_imports_cell) { window._pyforest_update_imports_cell('import pandas as pd'); }\n",
       "    "
      ],
      "text/plain": [
       "<IPython.core.display.Javascript object>"
      ]
     },
     "metadata": {},
     "output_type": "display_data"
    },
    {
     "data": {
      "text/html": [
       "<div>\n",
       "<style scoped>\n",
       "    .dataframe tbody tr th:only-of-type {\n",
       "        vertical-align: middle;\n",
       "    }\n",
       "\n",
       "    .dataframe tbody tr th {\n",
       "        vertical-align: top;\n",
       "    }\n",
       "\n",
       "    .dataframe thead th {\n",
       "        text-align: right;\n",
       "    }\n",
       "</style>\n",
       "<table border=\"1\" class=\"dataframe\">\n",
       "  <thead>\n",
       "    <tr style=\"text-align: right;\">\n",
       "      <th></th>\n",
       "      <th>Score</th>\n",
       "      <th>Summary</th>\n",
       "      <th>Text</th>\n",
       "      <th>vader_neg</th>\n",
       "      <th>vader_neu</th>\n",
       "      <th>vader_pos</th>\n",
       "      <th>vader_compound</th>\n",
       "      <th>roberta_negative</th>\n",
       "      <th>roberta_neutral</th>\n",
       "      <th>roberta_positive</th>\n",
       "    </tr>\n",
       "  </thead>\n",
       "  <tbody>\n",
       "    <tr>\n",
       "      <th>74632</th>\n",
       "      <td>5</td>\n",
       "      <td>addictive! but works for night coughing in dogs</td>\n",
       "      <td>my 12 year old sheltie has chronic brochotitis...</td>\n",
       "      <td>0.017</td>\n",
       "      <td>0.828</td>\n",
       "      <td>0.155</td>\n",
       "      <td>0.9542</td>\n",
       "      <td>0.034747</td>\n",
       "      <td>0.154147</td>\n",
       "      <td>0.811106</td>\n",
       "    </tr>\n",
       "    <tr>\n",
       "      <th>74633</th>\n",
       "      <td>5</td>\n",
       "      <td>genuine Greenies best price</td>\n",
       "      <td>These are genuine Greenies product, not a knoc...</td>\n",
       "      <td>0.000</td>\n",
       "      <td>0.671</td>\n",
       "      <td>0.329</td>\n",
       "      <td>0.9750</td>\n",
       "      <td>0.001693</td>\n",
       "      <td>0.010387</td>\n",
       "      <td>0.987920</td>\n",
       "    </tr>\n",
       "    <tr>\n",
       "      <th>74634</th>\n",
       "      <td>5</td>\n",
       "      <td>Perfect for our little doggies</td>\n",
       "      <td>Our dogs love Greenies, but of course, which d...</td>\n",
       "      <td>0.000</td>\n",
       "      <td>0.575</td>\n",
       "      <td>0.425</td>\n",
       "      <td>0.9692</td>\n",
       "      <td>0.002031</td>\n",
       "      <td>0.009127</td>\n",
       "      <td>0.988842</td>\n",
       "    </tr>\n",
       "    <tr>\n",
       "      <th>74635</th>\n",
       "      <td>5</td>\n",
       "      <td>dogs love greenies</td>\n",
       "      <td>What can I say, dogs love greenies. They begg ...</td>\n",
       "      <td>0.000</td>\n",
       "      <td>0.840</td>\n",
       "      <td>0.160</td>\n",
       "      <td>0.6369</td>\n",
       "      <td>0.014033</td>\n",
       "      <td>0.089241</td>\n",
       "      <td>0.896727</td>\n",
       "    </tr>\n",
       "    <tr>\n",
       "      <th>74636</th>\n",
       "      <td>5</td>\n",
       "      <td>Greenies review</td>\n",
       "      <td>This review is for a box of Greenies Lite for ...</td>\n",
       "      <td>0.000</td>\n",
       "      <td>0.901</td>\n",
       "      <td>0.099</td>\n",
       "      <td>0.4754</td>\n",
       "      <td>0.001545</td>\n",
       "      <td>0.023084</td>\n",
       "      <td>0.975371</td>\n",
       "    </tr>\n",
       "  </tbody>\n",
       "</table>\n",
       "</div>"
      ],
      "text/plain": [
       "       Score                                          Summary  \\\n",
       "74632      5  addictive! but works for night coughing in dogs   \n",
       "74633      5                      genuine Greenies best price   \n",
       "74634      5                   Perfect for our little doggies   \n",
       "74635      5                               dogs love greenies   \n",
       "74636      5                                  Greenies review   \n",
       "\n",
       "                                                    Text  vader_neg  \\\n",
       "74632  my 12 year old sheltie has chronic brochotitis...      0.017   \n",
       "74633  These are genuine Greenies product, not a knoc...      0.000   \n",
       "74634  Our dogs love Greenies, but of course, which d...      0.000   \n",
       "74635  What can I say, dogs love greenies. They begg ...      0.000   \n",
       "74636  This review is for a box of Greenies Lite for ...      0.000   \n",
       "\n",
       "       vader_neu  vader_pos  vader_compound  roberta_negative  \\\n",
       "74632      0.828      0.155          0.9542          0.034747   \n",
       "74633      0.671      0.329          0.9750          0.001693   \n",
       "74634      0.575      0.425          0.9692          0.002031   \n",
       "74635      0.840      0.160          0.6369          0.014033   \n",
       "74636      0.901      0.099          0.4754          0.001545   \n",
       "\n",
       "       roberta_neutral  roberta_positive  \n",
       "74632         0.154147          0.811106  \n",
       "74633         0.010387          0.987920  \n",
       "74634         0.009127          0.988842  \n",
       "74635         0.089241          0.896727  \n",
       "74636         0.023084          0.975371  "
      ]
     },
     "execution_count": 41,
     "metadata": {},
     "output_type": "execute_result"
    }
   ],
   "source": [
    "#Concating the sentiment scores with the ratings, and review texts to get all the info side by side\n",
    "vader_roberta_senti_scores = pd.concat([df[['Score', 'Summary', 'Text']],vader_roberta_senti_scores], axis=1)\n",
    "vader_roberta_senti_scores.head()"
   ]
  },
  {
   "cell_type": "code",
   "execution_count": 43,
   "metadata": {
    "execution": {
     "iopub.execute_input": "2024-09-28T12:36:22.487118Z",
     "iopub.status.busy": "2024-09-28T12:36:22.486091Z",
     "iopub.status.idle": "2024-09-28T12:36:22.916057Z",
     "shell.execute_reply": "2024-09-28T12:36:22.914408Z",
     "shell.execute_reply.started": "2024-09-28T12:36:22.487071Z"
    }
   },
   "outputs": [],
   "source": [
    "#Transfering the dataframe to a new variable name\n",
    "sentiment_scores = vader_roberta_senti_scores"
   ]
  },
  {
   "cell_type": "markdown",
   "metadata": {},
   "source": [
    "# Average Vader sentiment score for each rating"
   ]
  },
  {
   "cell_type": "code",
   "execution_count": 68,
   "metadata": {},
   "outputs": [
    {
     "data": {
      "text/plain": [
       "<Axes: xlabel='Score', ylabel='vader_compound'>"
      ]
     },
     "execution_count": 68,
     "metadata": {},
     "output_type": "execute_result"
    },
    {
     "data": {
      "image/png": "[encoded data removed]",
      "text/plain": [
       "<Figure size 640x480 with 1 Axes>"
      ]
     },
     "metadata": {},
     "output_type": "display_data"
    }
   ],
   "source": [
    "#Plot the average sentiment score for each rating score\n",
    "sns.barplot(x='Score', y='vader_compound', data=sentiment_scores)"
   ]
  },
  {
   "cell_type": "markdown",
   "metadata": {},
   "source": [
    "\n",
    "# Average  Roberta Positive sentiment score for each rating\n"
   ]
  },
  {
   "cell_type": "code",
   "execution_count": 67,
   "metadata": {},
   "outputs": [
    {
     "data": {
      "text/plain": [
       "<Axes: xlabel='Score', ylabel='roberta_positive'>"
      ]
     },
     "execution_count": 67,
     "metadata": {},
     "output_type": "execute_result"
    },
    {
     "data": {
      "image/png": "[encoded data removed]",
      "text/plain": [
       "<Figure size 640x480 with 1 Axes>"
      ]
     },
     "metadata": {},
     "output_type": "display_data"
    }
   ],
   "source": [
    "#Plot the average sentiment score for each rating score\n",
    "sns.barplot(x='Score', y='roberta_positive', data=sentiment_scores)"
   ]
  },
  {
   "cell_type": "markdown",
   "metadata": {},
   "source": [
    "# Average  Roberta Negative sentiment score for each rating\n"
   ]
  },
  {
   "cell_type": "code",
   "execution_count": 69,
   "metadata": {},
   "outputs": [
    {
     "data": {
      "text/plain": [
       "<Axes: xlabel='Score', ylabel='roberta_negative'>"
      ]
     },
     "execution_count": 69,
     "metadata": {},
     "output_type": "execute_result"
    },
    {
     "data": {
      "image/png": "[encoded data removed]",
      "text/plain": [
       "<Figure size 640x480 with 1 Axes>"
      ]
     },
     "metadata": {},
     "output_type": "display_data"
    }
   ],
   "source": [
    "#Plot the average sentiment score for each rating score\n",
    "sns.barplot(x='Score', y='roberta_negative', data=sentiment_scores)"
   ]
  },
  {
   "cell_type": "markdown",
   "metadata": {},
   "source": [
    "# Checking the \"1-star\" review with highest positive sentiment"
   ]
  },
  {
   "cell_type": "code",
   "execution_count": 53,
   "metadata": {},
   "outputs": [
    {
     "data": {
      "text/html": [
       "<div>\n",
       "<style scoped>\n",
       "    .dataframe tbody tr th:only-of-type {\n",
       "        vertical-align: middle;\n",
       "    }\n",
       "\n",
       "    .dataframe tbody tr th {\n",
       "        vertical-align: top;\n",
       "    }\n",
       "\n",
       "    .dataframe thead th {\n",
       "        text-align: right;\n",
       "    }\n",
       "</style>\n",
       "<table border=\"1\" class=\"dataframe\">\n",
       "  <thead>\n",
       "    <tr style=\"text-align: right;\">\n",
       "      <th></th>\n",
       "      <th>Score</th>\n",
       "      <th>Summary</th>\n",
       "      <th>Text</th>\n",
       "      <th>vader_neg</th>\n",
       "      <th>vader_neu</th>\n",
       "      <th>vader_pos</th>\n",
       "      <th>vader_compound</th>\n",
       "      <th>roberta_negative</th>\n",
       "      <th>roberta_neutral</th>\n",
       "      <th>roberta_positive</th>\n",
       "    </tr>\n",
       "  </thead>\n",
       "  <tbody>\n",
       "    <tr>\n",
       "      <th>74956</th>\n",
       "      <td>1</td>\n",
       "      <td>Greenies Lite - Not for dogs who had the taste...</td>\n",
       "      <td>My little dog who's rather picky about his tre...</td>\n",
       "      <td>0.016</td>\n",
       "      <td>0.856</td>\n",
       "      <td>0.128</td>\n",
       "      <td>0.9534</td>\n",
       "      <td>0.065356</td>\n",
       "      <td>0.243100</td>\n",
       "      <td>0.691545</td>\n",
       "    </tr>\n",
       "    <tr>\n",
       "      <th>75195</th>\n",
       "      <td>1</td>\n",
       "      <td>BEWARE</td>\n",
       "      <td>I have bought greenies for my dog for 7 years ...</td>\n",
       "      <td>0.109</td>\n",
       "      <td>0.776</td>\n",
       "      <td>0.115</td>\n",
       "      <td>0.1280</td>\n",
       "      <td>0.274302</td>\n",
       "      <td>0.390759</td>\n",
       "      <td>0.334939</td>\n",
       "    </tr>\n",
       "    <tr>\n",
       "      <th>75221</th>\n",
       "      <td>1</td>\n",
       "      <td>The Ultimate Consumer \"Fraud.\"</td>\n",
       "      <td>We have two St. Bernards, one of whom is close...</td>\n",
       "      <td>0.082</td>\n",
       "      <td>0.851</td>\n",
       "      <td>0.067</td>\n",
       "      <td>-0.6371</td>\n",
       "      <td>0.250683</td>\n",
       "      <td>0.463774</td>\n",
       "      <td>0.285542</td>\n",
       "    </tr>\n",
       "    <tr>\n",
       "      <th>75191</th>\n",
       "      <td>1</td>\n",
       "      <td>puppy didn't like</td>\n",
       "      <td>Bought the big box to be economical..bad choic...</td>\n",
       "      <td>0.101</td>\n",
       "      <td>0.746</td>\n",
       "      <td>0.153</td>\n",
       "      <td>0.6258</td>\n",
       "      <td>0.498162</td>\n",
       "      <td>0.381671</td>\n",
       "      <td>0.120166</td>\n",
       "    </tr>\n",
       "    <tr>\n",
       "      <th>75205</th>\n",
       "      <td>1</td>\n",
       "      <td>96=45</td>\n",
       "      <td>Just because you see 96 treats on the box your...</td>\n",
       "      <td>0.091</td>\n",
       "      <td>0.909</td>\n",
       "      <td>0.000</td>\n",
       "      <td>-0.3400</td>\n",
       "      <td>0.415627</td>\n",
       "      <td>0.507753</td>\n",
       "      <td>0.076620</td>\n",
       "    </tr>\n",
       "    <tr>\n",
       "      <th>75189</th>\n",
       "      <td>1</td>\n",
       "      <td>Worm found on Greenies Joint Care</td>\n",
       "      <td>Just opened Greenies Joint Care (individually ...</td>\n",
       "      <td>0.000</td>\n",
       "      <td>0.757</td>\n",
       "      <td>0.243</td>\n",
       "      <td>0.8098</td>\n",
       "      <td>0.551989</td>\n",
       "      <td>0.378599</td>\n",
       "      <td>0.069412</td>\n",
       "    </tr>\n",
       "    <tr>\n",
       "      <th>74664</th>\n",
       "      <td>1</td>\n",
       "      <td>Check Contents First</td>\n",
       "      <td>Half way through the supply, I noticed that th...</td>\n",
       "      <td>0.067</td>\n",
       "      <td>0.885</td>\n",
       "      <td>0.048</td>\n",
       "      <td>-0.0900</td>\n",
       "      <td>0.443764</td>\n",
       "      <td>0.490425</td>\n",
       "      <td>0.065811</td>\n",
       "    </tr>\n",
       "    <tr>\n",
       "      <th>75211</th>\n",
       "      <td>1</td>\n",
       "      <td>My dog won't eat them</td>\n",
       "      <td>Bought these for my little shih-tzu a few mont...</td>\n",
       "      <td>0.026</td>\n",
       "      <td>0.974</td>\n",
       "      <td>0.000</td>\n",
       "      <td>-0.1511</td>\n",
       "      <td>0.679034</td>\n",
       "      <td>0.266311</td>\n",
       "      <td>0.054655</td>\n",
       "    </tr>\n",
       "    <tr>\n",
       "      <th>75214</th>\n",
       "      <td>1</td>\n",
       "      <td>Find another treat</td>\n",
       "      <td>I have an almost two year old lab mix named Ar...</td>\n",
       "      <td>0.105</td>\n",
       "      <td>0.747</td>\n",
       "      <td>0.148</td>\n",
       "      <td>0.7214</td>\n",
       "      <td>0.728016</td>\n",
       "      <td>0.219393</td>\n",
       "      <td>0.052591</td>\n",
       "    </tr>\n",
       "    <tr>\n",
       "      <th>75198</th>\n",
       "      <td>1</td>\n",
       "      <td>Dog wont eat them</td>\n",
       "      <td>Had to buy another box of the same thing at Pe...</td>\n",
       "      <td>0.070</td>\n",
       "      <td>0.930</td>\n",
       "      <td>0.000</td>\n",
       "      <td>-0.2411</td>\n",
       "      <td>0.726518</td>\n",
       "      <td>0.243288</td>\n",
       "      <td>0.030194</td>\n",
       "    </tr>\n",
       "    <tr>\n",
       "      <th>75188</th>\n",
       "      <td>1</td>\n",
       "      <td>These scare me.  Look at what I've found online:</td>\n",
       "      <td>I was all set to buy these thinking they'd be ...</td>\n",
       "      <td>0.037</td>\n",
       "      <td>0.862</td>\n",
       "      <td>0.101</td>\n",
       "      <td>0.9378</td>\n",
       "      <td>0.747017</td>\n",
       "      <td>0.225048</td>\n",
       "      <td>0.027935</td>\n",
       "    </tr>\n",
       "    <tr>\n",
       "      <th>74669</th>\n",
       "      <td>1</td>\n",
       "      <td>very dangerous product for dogs</td>\n",
       "      <td>i bought this for my dog - he loved it.  howev...</td>\n",
       "      <td>0.101</td>\n",
       "      <td>0.829</td>\n",
       "      <td>0.070</td>\n",
       "      <td>-0.5615</td>\n",
       "      <td>0.860122</td>\n",
       "      <td>0.114985</td>\n",
       "      <td>0.024893</td>\n",
       "    </tr>\n",
       "    <tr>\n",
       "      <th>75203</th>\n",
       "      <td>1</td>\n",
       "      <td>do not feed this product to pugs.</td>\n",
       "      <td>My pug almost died from this product. A piece ...</td>\n",
       "      <td>0.122</td>\n",
       "      <td>0.833</td>\n",
       "      <td>0.045</td>\n",
       "      <td>-0.6090</td>\n",
       "      <td>0.820406</td>\n",
       "      <td>0.157995</td>\n",
       "      <td>0.021599</td>\n",
       "    </tr>\n",
       "    <tr>\n",
       "      <th>75204</th>\n",
       "      <td>1</td>\n",
       "      <td>Not the best</td>\n",
       "      <td>My dog was on a bland diet (boiled chicken &amp; r...</td>\n",
       "      <td>0.130</td>\n",
       "      <td>0.785</td>\n",
       "      <td>0.085</td>\n",
       "      <td>-0.6050</td>\n",
       "      <td>0.838723</td>\n",
       "      <td>0.144359</td>\n",
       "      <td>0.016918</td>\n",
       "    </tr>\n",
       "    <tr>\n",
       "      <th>75162</th>\n",
       "      <td>1</td>\n",
       "      <td>Bad for My Dog</td>\n",
       "      <td>My dog was on a bland diet (boiled chicken &amp; r...</td>\n",
       "      <td>0.130</td>\n",
       "      <td>0.785</td>\n",
       "      <td>0.085</td>\n",
       "      <td>-0.6050</td>\n",
       "      <td>0.838723</td>\n",
       "      <td>0.144359</td>\n",
       "      <td>0.016918</td>\n",
       "    </tr>\n",
       "    <tr>\n",
       "      <th>75218</th>\n",
       "      <td>1</td>\n",
       "      <td>Didn't receive what I ordered</td>\n",
       "      <td>I ordered the Teenie pack of Greenies that was...</td>\n",
       "      <td>0.031</td>\n",
       "      <td>0.938</td>\n",
       "      <td>0.031</td>\n",
       "      <td>-0.0103</td>\n",
       "      <td>0.865875</td>\n",
       "      <td>0.120180</td>\n",
       "      <td>0.013946</td>\n",
       "    </tr>\n",
       "    <tr>\n",
       "      <th>75183</th>\n",
       "      <td>1</td>\n",
       "      <td>Observe Pet Reactions to Greenies</td>\n",
       "      <td>I had good results with this product six month...</td>\n",
       "      <td>0.055</td>\n",
       "      <td>0.877</td>\n",
       "      <td>0.068</td>\n",
       "      <td>0.5778</td>\n",
       "      <td>0.850719</td>\n",
       "      <td>0.135935</td>\n",
       "      <td>0.013346</td>\n",
       "    </tr>\n",
       "    <tr>\n",
       "      <th>75193</th>\n",
       "      <td>1</td>\n",
       "      <td>Very disappointed</td>\n",
       "      <td>I ordered 3 packs of 27-count greenie dog chew...</td>\n",
       "      <td>0.024</td>\n",
       "      <td>0.976</td>\n",
       "      <td>0.000</td>\n",
       "      <td>-0.2500</td>\n",
       "      <td>0.874262</td>\n",
       "      <td>0.112456</td>\n",
       "      <td>0.013283</td>\n",
       "    </tr>\n",
       "    <tr>\n",
       "      <th>75208</th>\n",
       "      <td>1</td>\n",
       "      <td>Greenies are not digestible -your puppy will v...</td>\n",
       "      <td>I made the mistake to give a Greeny to my pupp...</td>\n",
       "      <td>0.157</td>\n",
       "      <td>0.721</td>\n",
       "      <td>0.123</td>\n",
       "      <td>-0.9190</td>\n",
       "      <td>0.898539</td>\n",
       "      <td>0.091608</td>\n",
       "      <td>0.009853</td>\n",
       "    </tr>\n",
       "    <tr>\n",
       "      <th>75182</th>\n",
       "      <td>1</td>\n",
       "      <td>WORMS IN GREENIES?????</td>\n",
       "      <td>This is my second box of greenies that I have ...</td>\n",
       "      <td>0.073</td>\n",
       "      <td>0.832</td>\n",
       "      <td>0.095</td>\n",
       "      <td>0.5499</td>\n",
       "      <td>0.932842</td>\n",
       "      <td>0.057544</td>\n",
       "      <td>0.009614</td>\n",
       "    </tr>\n",
       "    <tr>\n",
       "      <th>75184</th>\n",
       "      <td>1</td>\n",
       "      <td>No go</td>\n",
       "      <td>My dog won't eat these things. I can offer her...</td>\n",
       "      <td>0.153</td>\n",
       "      <td>0.817</td>\n",
       "      <td>0.030</td>\n",
       "      <td>-0.9524</td>\n",
       "      <td>0.915743</td>\n",
       "      <td>0.075265</td>\n",
       "      <td>0.008992</td>\n",
       "    </tr>\n",
       "    <tr>\n",
       "      <th>75213</th>\n",
       "      <td>1</td>\n",
       "      <td>Be careful with wheat gluten</td>\n",
       "      <td>I'll admit, I am reviewing a product I have no...</td>\n",
       "      <td>0.152</td>\n",
       "      <td>0.833</td>\n",
       "      <td>0.015</td>\n",
       "      <td>-0.9783</td>\n",
       "      <td>0.907672</td>\n",
       "      <td>0.084683</td>\n",
       "      <td>0.007645</td>\n",
       "    </tr>\n",
       "    <tr>\n",
       "      <th>75219</th>\n",
       "      <td>1</td>\n",
       "      <td>PLEASE RESEARCH BEFORE GIVING TO YOUR DOG!</td>\n",
       "      <td>Read the stories online....dogs have died from...</td>\n",
       "      <td>0.099</td>\n",
       "      <td>0.778</td>\n",
       "      <td>0.123</td>\n",
       "      <td>0.4974</td>\n",
       "      <td>0.945708</td>\n",
       "      <td>0.048601</td>\n",
       "      <td>0.005692</td>\n",
       "    </tr>\n",
       "    <tr>\n",
       "      <th>75216</th>\n",
       "      <td>1</td>\n",
       "      <td>Greenies Made My Dog SICK</td>\n",
       "      <td>Do not buy these for your dog! I made the mist...</td>\n",
       "      <td>0.146</td>\n",
       "      <td>0.812</td>\n",
       "      <td>0.042</td>\n",
       "      <td>-0.9813</td>\n",
       "      <td>0.944418</td>\n",
       "      <td>0.050058</td>\n",
       "      <td>0.005524</td>\n",
       "    </tr>\n",
       "    <tr>\n",
       "      <th>75202</th>\n",
       "      <td>1</td>\n",
       "      <td>DEADLY!!!!!</td>\n",
       "      <td>I am writing this because this product KILLED ...</td>\n",
       "      <td>0.157</td>\n",
       "      <td>0.769</td>\n",
       "      <td>0.074</td>\n",
       "      <td>-0.9169</td>\n",
       "      <td>0.937894</td>\n",
       "      <td>0.056778</td>\n",
       "      <td>0.005327</td>\n",
       "    </tr>\n",
       "    <tr>\n",
       "      <th>75210</th>\n",
       "      <td>1</td>\n",
       "      <td>Fatal</td>\n",
       "      <td>Why aren't there more negative reviews on the ...</td>\n",
       "      <td>0.163</td>\n",
       "      <td>0.776</td>\n",
       "      <td>0.061</td>\n",
       "      <td>-0.9255</td>\n",
       "      <td>0.940333</td>\n",
       "      <td>0.055197</td>\n",
       "      <td>0.004470</td>\n",
       "    </tr>\n",
       "    <tr>\n",
       "      <th>75209</th>\n",
       "      <td>1</td>\n",
       "      <td>Greenies Dental Chews For Dogs</td>\n",
       "      <td>Consumers Beware of Greenie products for dogs ...</td>\n",
       "      <td>0.173</td>\n",
       "      <td>0.804</td>\n",
       "      <td>0.022</td>\n",
       "      <td>-0.9501</td>\n",
       "      <td>0.948367</td>\n",
       "      <td>0.047230</td>\n",
       "      <td>0.004404</td>\n",
       "    </tr>\n",
       "  </tbody>\n",
       "</table>\n",
       "</div>"
      ],
      "text/plain": [
       "       Score                                            Summary  \\\n",
       "74956      1  Greenies Lite - Not for dogs who had the taste...   \n",
       "75195      1                                             BEWARE   \n",
       "75221      1                     The Ultimate Consumer \"Fraud.\"   \n",
       "75191      1                                  puppy didn't like   \n",
       "75205      1                                              96=45   \n",
       "75189      1                  Worm found on Greenies Joint Care   \n",
       "74664      1                               Check Contents First   \n",
       "75211      1                              My dog won't eat them   \n",
       "75214      1                                 Find another treat   \n",
       "75198      1                                  Dog wont eat them   \n",
       "75188      1   These scare me.  Look at what I've found online:   \n",
       "74669      1                    very dangerous product for dogs   \n",
       "75203      1                  do not feed this product to pugs.   \n",
       "75204      1                                       Not the best   \n",
       "75162      1                                     Bad for My Dog   \n",
       "75218      1                      Didn't receive what I ordered   \n",
       "75183      1                  Observe Pet Reactions to Greenies   \n",
       "75193      1                                  Very disappointed   \n",
       "75208      1  Greenies are not digestible -your puppy will v...   \n",
       "75182      1                             WORMS IN GREENIES?????   \n",
       "75184      1                                              No go   \n",
       "75213      1                       Be careful with wheat gluten   \n",
       "75219      1         PLEASE RESEARCH BEFORE GIVING TO YOUR DOG!   \n",
       "75216      1                          Greenies Made My Dog SICK   \n",
       "75202      1                                        DEADLY!!!!!   \n",
       "75210      1                                              Fatal   \n",
       "75209      1                     Greenies Dental Chews For Dogs   \n",
       "\n",
       "                                                    Text  vader_neg  \\\n",
       "74956  My little dog who's rather picky about his tre...      0.016   \n",
       "75195  I have bought greenies for my dog for 7 years ...      0.109   \n",
       "75221  We have two St. Bernards, one of whom is close...      0.082   \n",
       "75191  Bought the big box to be economical..bad choic...      0.101   \n",
       "75205  Just because you see 96 treats on the box your...      0.091   \n",
       "75189  Just opened Greenies Joint Care (individually ...      0.000   \n",
       "74664  Half way through the supply, I noticed that th...      0.067   \n",
       "75211  Bought these for my little shih-tzu a few mont...      0.026   \n",
       "75214  I have an almost two year old lab mix named Ar...      0.105   \n",
       "75198  Had to buy another box of the same thing at Pe...      0.070   \n",
       "75188  I was all set to buy these thinking they'd be ...      0.037   \n",
       "74669  i bought this for my dog - he loved it.  howev...      0.101   \n",
       "75203  My pug almost died from this product. A piece ...      0.122   \n",
       "75204  My dog was on a bland diet (boiled chicken & r...      0.130   \n",
       "75162  My dog was on a bland diet (boiled chicken & r...      0.130   \n",
       "75218  I ordered the Teenie pack of Greenies that was...      0.031   \n",
       "75183  I had good results with this product six month...      0.055   \n",
       "75193  I ordered 3 packs of 27-count greenie dog chew...      0.024   \n",
       "75208  I made the mistake to give a Greeny to my pupp...      0.157   \n",
       "75182  This is my second box of greenies that I have ...      0.073   \n",
       "75184  My dog won't eat these things. I can offer her...      0.153   \n",
       "75213  I'll admit, I am reviewing a product I have no...      0.152   \n",
       "75219  Read the stories online....dogs have died from...      0.099   \n",
       "75216  Do not buy these for your dog! I made the mist...      0.146   \n",
       "75202  I am writing this because this product KILLED ...      0.157   \n",
       "75210  Why aren't there more negative reviews on the ...      0.163   \n",
       "75209  Consumers Beware of Greenie products for dogs ...      0.173   \n",
       "\n",
       "       vader_neu  vader_pos  vader_compound  roberta_negative  \\\n",
       "74956      0.856      0.128          0.9534          0.065356   \n",
       "75195      0.776      0.115          0.1280          0.274302   \n",
       "75221      0.851      0.067         -0.6371          0.250683   \n",
       "75191      0.746      0.153          0.6258          0.498162   \n",
       "75205      0.909      0.000         -0.3400          0.415627   \n",
       "75189      0.757      0.243          0.8098          0.551989   \n",
       "74664      0.885      0.048         -0.0900          0.443764   \n",
       "75211      0.974      0.000         -0.1511          0.679034   \n",
       "75214      0.747      0.148          0.7214          0.728016   \n",
       "75198      0.930      0.000         -0.2411          0.726518   \n",
       "75188      0.862      0.101          0.9378          0.747017   \n",
       "74669      0.829      0.070         -0.5615          0.860122   \n",
       "75203      0.833      0.045         -0.6090          0.820406   \n",
       "75204      0.785      0.085         -0.6050          0.838723   \n",
       "75162      0.785      0.085         -0.6050          0.838723   \n",
       "75218      0.938      0.031         -0.0103          0.865875   \n",
       "75183      0.877      0.068          0.5778          0.850719   \n",
       "75193      0.976      0.000         -0.2500          0.874262   \n",
       "75208      0.721      0.123         -0.9190          0.898539   \n",
       "75182      0.832      0.095          0.5499          0.932842   \n",
       "75184      0.817      0.030         -0.9524          0.915743   \n",
       "75213      0.833      0.015         -0.9783          0.907672   \n",
       "75219      0.778      0.123          0.4974          0.945708   \n",
       "75216      0.812      0.042         -0.9813          0.944418   \n",
       "75202      0.769      0.074         -0.9169          0.937894   \n",
       "75210      0.776      0.061         -0.9255          0.940333   \n",
       "75209      0.804      0.022         -0.9501          0.948367   \n",
       "\n",
       "       roberta_neutral  roberta_positive  \n",
       "74956         0.243100          0.691545  \n",
       "75195         0.390759          0.334939  \n",
       "75221         0.463774          0.285542  \n",
       "75191         0.381671          0.120166  \n",
       "75205         0.507753          0.076620  \n",
       "75189         0.378599          0.069412  \n",
       "74664         0.490425          0.065811  \n",
       "75211         0.266311          0.054655  \n",
       "75214         0.219393          0.052591  \n",
       "75198         0.243288          0.030194  \n",
       "75188         0.225048          0.027935  \n",
       "74669         0.114985          0.024893  \n",
       "75203         0.157995          0.021599  \n",
       "75204         0.144359          0.016918  \n",
       "75162         0.144359          0.016918  \n",
       "75218         0.120180          0.013946  \n",
       "75183         0.135935          0.013346  \n",
       "75193         0.112456          0.013283  \n",
       "75208         0.091608          0.009853  \n",
       "75182         0.057544          0.009614  \n",
       "75184         0.075265          0.008992  \n",
       "75213         0.084683          0.007645  \n",
       "75219         0.048601          0.005692  \n",
       "75216         0.050058          0.005524  \n",
       "75202         0.056778          0.005327  \n",
       "75210         0.055197          0.004470  \n",
       "75209         0.047230          0.004404  "
      ]
     },
     "execution_count": 53,
     "metadata": {},
     "output_type": "execute_result"
    }
   ],
   "source": [
    "sentiment_scores[sentiment_scores['Score']==1].sort_values('roberta_positive', ascending=False)"
   ]
  },
  {
   "cell_type": "code",
   "execution_count": 49,
   "metadata": {},
   "outputs": [
    {
     "data": {
      "text/plain": [
       "\"My little dog who's rather picky about his treats absolutely loves Greenies REGULAR.  As he's getting older, I thought I'd go for the LITE since I'm sure regular Greenies have a lot higher calories.  So I bought Greenies LITE (teenie, 96 pack) and he sniffed at the first one and literally pushed it away with his nose and several more attempts have gone unsuccessful and I've been just handing them out to my friends' less-picky dogs.  Had to buy a tub of Greenies regular and surely enough, he sniffed at it, did his dance, grabbed it and ran away (well, he was so happy he skipped away) with it.  When I smell it, the regular definitely smells better/more appetizing whereas the LITE has the blah~ smell to it.  So if your dog already had a taste of regular Greenies, I suggest you stick with the regular.\""
      ]
     },
     "execution_count": 49,
     "metadata": {},
     "output_type": "execute_result"
    }
   ],
   "source": [
    "#Roberta \n",
    "sentiment_scores[sentiment_scores['Score']==1].sort_values('roberta_positive', ascending=False)['Text'].iloc[0]"
   ]
  },
  {
   "cell_type": "markdown",
   "metadata": {},
   "source": [
    "# The review is a negative review but due to the nature of the sentence, the model identified more positive sentiments in it."
   ]
  },
  {
   "cell_type": "code",
   "execution_count": 64,
   "metadata": {},
   "outputs": [
    {
     "data": {
      "text/html": [
       "<div>\n",
       "<style scoped>\n",
       "    .dataframe tbody tr th:only-of-type {\n",
       "        vertical-align: middle;\n",
       "    }\n",
       "\n",
       "    .dataframe tbody tr th {\n",
       "        vertical-align: top;\n",
       "    }\n",
       "\n",
       "    .dataframe thead th {\n",
       "        text-align: right;\n",
       "    }\n",
       "</style>\n",
       "<table border=\"1\" class=\"dataframe\">\n",
       "  <thead>\n",
       "    <tr style=\"text-align: right;\">\n",
       "      <th></th>\n",
       "      <th>Score</th>\n",
       "      <th>Summary</th>\n",
       "      <th>Text</th>\n",
       "      <th>vader_neg</th>\n",
       "      <th>vader_neu</th>\n",
       "      <th>vader_pos</th>\n",
       "      <th>vader_compound</th>\n",
       "      <th>roberta_negative</th>\n",
       "      <th>roberta_neutral</th>\n",
       "      <th>roberta_positive</th>\n",
       "    </tr>\n",
       "  </thead>\n",
       "  <tbody>\n",
       "    <tr>\n",
       "      <th>74956</th>\n",
       "      <td>1</td>\n",
       "      <td>Greenies Lite - Not for dogs who had the taste...</td>\n",
       "      <td>My little dog who's rather picky about his tre...</td>\n",
       "      <td>0.016</td>\n",
       "      <td>0.856</td>\n",
       "      <td>0.128</td>\n",
       "      <td>0.9534</td>\n",
       "      <td>0.065356</td>\n",
       "      <td>0.243100</td>\n",
       "      <td>0.691545</td>\n",
       "    </tr>\n",
       "    <tr>\n",
       "      <th>75188</th>\n",
       "      <td>1</td>\n",
       "      <td>These scare me.  Look at what I've found online:</td>\n",
       "      <td>I was all set to buy these thinking they'd be ...</td>\n",
       "      <td>0.037</td>\n",
       "      <td>0.862</td>\n",
       "      <td>0.101</td>\n",
       "      <td>0.9378</td>\n",
       "      <td>0.747017</td>\n",
       "      <td>0.225048</td>\n",
       "      <td>0.027935</td>\n",
       "    </tr>\n",
       "    <tr>\n",
       "      <th>75189</th>\n",
       "      <td>1</td>\n",
       "      <td>Worm found on Greenies Joint Care</td>\n",
       "      <td>Just opened Greenies Joint Care (individually ...</td>\n",
       "      <td>0.000</td>\n",
       "      <td>0.757</td>\n",
       "      <td>0.243</td>\n",
       "      <td>0.8098</td>\n",
       "      <td>0.551989</td>\n",
       "      <td>0.378599</td>\n",
       "      <td>0.069412</td>\n",
       "    </tr>\n",
       "    <tr>\n",
       "      <th>75214</th>\n",
       "      <td>1</td>\n",
       "      <td>Find another treat</td>\n",
       "      <td>I have an almost two year old lab mix named Ar...</td>\n",
       "      <td>0.105</td>\n",
       "      <td>0.747</td>\n",
       "      <td>0.148</td>\n",
       "      <td>0.7214</td>\n",
       "      <td>0.728016</td>\n",
       "      <td>0.219393</td>\n",
       "      <td>0.052591</td>\n",
       "    </tr>\n",
       "    <tr>\n",
       "      <th>75191</th>\n",
       "      <td>1</td>\n",
       "      <td>puppy didn't like</td>\n",
       "      <td>Bought the big box to be economical..bad choic...</td>\n",
       "      <td>0.101</td>\n",
       "      <td>0.746</td>\n",
       "      <td>0.153</td>\n",
       "      <td>0.6258</td>\n",
       "      <td>0.498162</td>\n",
       "      <td>0.381671</td>\n",
       "      <td>0.120166</td>\n",
       "    </tr>\n",
       "  </tbody>\n",
       "</table>\n",
       "</div>"
      ],
      "text/plain": [
       "       Score                                            Summary  \\\n",
       "74956      1  Greenies Lite - Not for dogs who had the taste...   \n",
       "75188      1   These scare me.  Look at what I've found online:   \n",
       "75189      1                  Worm found on Greenies Joint Care   \n",
       "75214      1                                 Find another treat   \n",
       "75191      1                                  puppy didn't like   \n",
       "\n",
       "                                                    Text  vader_neg  \\\n",
       "74956  My little dog who's rather picky about his tre...      0.016   \n",
       "75188  I was all set to buy these thinking they'd be ...      0.037   \n",
       "75189  Just opened Greenies Joint Care (individually ...      0.000   \n",
       "75214  I have an almost two year old lab mix named Ar...      0.105   \n",
       "75191  Bought the big box to be economical..bad choic...      0.101   \n",
       "\n",
       "       vader_neu  vader_pos  vader_compound  roberta_negative  \\\n",
       "74956      0.856      0.128          0.9534          0.065356   \n",
       "75188      0.862      0.101          0.9378          0.747017   \n",
       "75189      0.757      0.243          0.8098          0.551989   \n",
       "75214      0.747      0.148          0.7214          0.728016   \n",
       "75191      0.746      0.153          0.6258          0.498162   \n",
       "\n",
       "       roberta_neutral  roberta_positive  \n",
       "74956         0.243100          0.691545  \n",
       "75188         0.225048          0.027935  \n",
       "75189         0.378599          0.069412  \n",
       "75214         0.219393          0.052591  \n",
       "75191         0.381671          0.120166  "
      ]
     },
     "execution_count": 64,
     "metadata": {},
     "output_type": "execute_result"
    }
   ],
   "source": [
    "sentiment_scores[sentiment_scores['Score']==1].sort_values('vader_compound', ascending=False).head()"
   ]
  },
  {
   "cell_type": "code",
   "execution_count": 54,
   "metadata": {},
   "outputs": [
    {
     "data": {
      "text/plain": [
       "\"My little dog who's rather picky about his treats absolutely loves Greenies REGULAR.  As he's getting older, I thought I'd go for the LITE since I'm sure regular Greenies have a lot higher calories.  So I bought Greenies LITE (teenie, 96 pack) and he sniffed at the first one and literally pushed it away with his nose and several more attempts have gone unsuccessful and I've been just handing them out to my friends' less-picky dogs.  Had to buy a tub of Greenies regular and surely enough, he sniffed at it, did his dance, grabbed it and ran away (well, he was so happy he skipped away) with it.  When I smell it, the regular definitely smells better/more appetizing whereas the LITE has the blah~ smell to it.  So if your dog already had a taste of regular Greenies, I suggest you stick with the regular.\""
      ]
     },
     "execution_count": 54,
     "metadata": {},
     "output_type": "execute_result"
    }
   ],
   "source": [
    "#Vader \n",
    "sentiment_scores[sentiment_scores['Score']==1].sort_values('vader_compound', ascending=False)['Text'].iloc[0]"
   ]
  },
  {
   "cell_type": "markdown",
   "metadata": {},
   "source": [
    "# Both the models identified highest positive sentiment in the same 1 star review"
   ]
  },
  {
   "cell_type": "markdown",
   "metadata": {},
   "source": [
    "# Checking the \"5 Star\" reviews with highest negative sentiments"
   ]
  },
  {
   "cell_type": "code",
   "execution_count": 65,
   "metadata": {},
   "outputs": [
    {
     "data": {
      "text/html": [
       "<div>\n",
       "<style scoped>\n",
       "    .dataframe tbody tr th:only-of-type {\n",
       "        vertical-align: middle;\n",
       "    }\n",
       "\n",
       "    .dataframe tbody tr th {\n",
       "        vertical-align: top;\n",
       "    }\n",
       "\n",
       "    .dataframe thead th {\n",
       "        text-align: right;\n",
       "    }\n",
       "</style>\n",
       "<table border=\"1\" class=\"dataframe\">\n",
       "  <thead>\n",
       "    <tr style=\"text-align: right;\">\n",
       "      <th></th>\n",
       "      <th>Score</th>\n",
       "      <th>Summary</th>\n",
       "      <th>Text</th>\n",
       "      <th>vader_neg</th>\n",
       "      <th>vader_neu</th>\n",
       "      <th>vader_pos</th>\n",
       "      <th>vader_compound</th>\n",
       "      <th>roberta_negative</th>\n",
       "      <th>roberta_neutral</th>\n",
       "      <th>roberta_positive</th>\n",
       "    </tr>\n",
       "  </thead>\n",
       "  <tbody>\n",
       "    <tr>\n",
       "      <th>74742</th>\n",
       "      <td>5</td>\n",
       "      <td>Great Greenies</td>\n",
       "      <td>My dog no longer needs to have his teeth clean...</td>\n",
       "      <td>0.104</td>\n",
       "      <td>0.896</td>\n",
       "      <td>0.000</td>\n",
       "      <td>-0.2960</td>\n",
       "      <td>0.725353</td>\n",
       "      <td>0.249067</td>\n",
       "      <td>0.025580</td>\n",
       "    </tr>\n",
       "    <tr>\n",
       "      <th>74791</th>\n",
       "      <td>5</td>\n",
       "      <td>Greenies are awesome!!</td>\n",
       "      <td>My dogs go crazy for these!! I was worried for...</td>\n",
       "      <td>0.168</td>\n",
       "      <td>0.758</td>\n",
       "      <td>0.074</td>\n",
       "      <td>-0.9210</td>\n",
       "      <td>0.702831</td>\n",
       "      <td>0.246060</td>\n",
       "      <td>0.051109</td>\n",
       "    </tr>\n",
       "    <tr>\n",
       "      <th>74831</th>\n",
       "      <td>5</td>\n",
       "      <td>Great price..</td>\n",
       "      <td>Came with the plastic bin! My Lhasa Apso liked...</td>\n",
       "      <td>0.206</td>\n",
       "      <td>0.654</td>\n",
       "      <td>0.140</td>\n",
       "      <td>-0.5255</td>\n",
       "      <td>0.690595</td>\n",
       "      <td>0.257604</td>\n",
       "      <td>0.051802</td>\n",
       "    </tr>\n",
       "    <tr>\n",
       "      <th>75156</th>\n",
       "      <td>5</td>\n",
       "      <td>Greenies good product but price has gone up</td>\n",
       "      <td>I have been buying this product for quite some...</td>\n",
       "      <td>0.129</td>\n",
       "      <td>0.786</td>\n",
       "      <td>0.085</td>\n",
       "      <td>-0.2960</td>\n",
       "      <td>0.650625</td>\n",
       "      <td>0.249638</td>\n",
       "      <td>0.099738</td>\n",
       "    </tr>\n",
       "    <tr>\n",
       "      <th>74749</th>\n",
       "      <td>5</td>\n",
       "      <td>love it!!!</td>\n",
       "      <td>My dog thinks it is crack! He is crazy over th...</td>\n",
       "      <td>0.090</td>\n",
       "      <td>0.834</td>\n",
       "      <td>0.077</td>\n",
       "      <td>-0.1007</td>\n",
       "      <td>0.644353</td>\n",
       "      <td>0.259558</td>\n",
       "      <td>0.096089</td>\n",
       "    </tr>\n",
       "  </tbody>\n",
       "</table>\n",
       "</div>"
      ],
      "text/plain": [
       "       Score                                      Summary  \\\n",
       "74742      5                               Great Greenies   \n",
       "74791      5                       Greenies are awesome!!   \n",
       "74831      5                                Great price..   \n",
       "75156      5  Greenies good product but price has gone up   \n",
       "74749      5                                   love it!!!   \n",
       "\n",
       "                                                    Text  vader_neg  \\\n",
       "74742  My dog no longer needs to have his teeth clean...      0.104   \n",
       "74791  My dogs go crazy for these!! I was worried for...      0.168   \n",
       "74831  Came with the plastic bin! My Lhasa Apso liked...      0.206   \n",
       "75156  I have been buying this product for quite some...      0.129   \n",
       "74749  My dog thinks it is crack! He is crazy over th...      0.090   \n",
       "\n",
       "       vader_neu  vader_pos  vader_compound  roberta_negative  \\\n",
       "74742      0.896      0.000         -0.2960          0.725353   \n",
       "74791      0.758      0.074         -0.9210          0.702831   \n",
       "74831      0.654      0.140         -0.5255          0.690595   \n",
       "75156      0.786      0.085         -0.2960          0.650625   \n",
       "74749      0.834      0.077         -0.1007          0.644353   \n",
       "\n",
       "       roberta_neutral  roberta_positive  \n",
       "74742         0.249067          0.025580  \n",
       "74791         0.246060          0.051109  \n",
       "74831         0.257604          0.051802  \n",
       "75156         0.249638          0.099738  \n",
       "74749         0.259558          0.096089  "
      ]
     },
     "execution_count": 65,
     "metadata": {},
     "output_type": "execute_result"
    }
   ],
   "source": [
    "#Roberta\n",
    "sentiment_scores[sentiment_scores['Score']==5].sort_values('roberta_negative', ascending=False).head()"
   ]
  },
  {
   "cell_type": "code",
   "execution_count": 63,
   "metadata": {},
   "outputs": [
    {
     "data": {
      "text/plain": [
       "'My dog no longer needs to have his teeth cleaned by the vet, since he gets one grenie every day.'"
      ]
     },
     "execution_count": 63,
     "metadata": {},
     "output_type": "execute_result"
    }
   ],
   "source": [
    "sentiment_scores[sentiment_scores['Score']==5].sort_values('roberta_negative', ascending=False)['Text'].iloc[0]"
   ]
  },
  {
   "cell_type": "markdown",
   "metadata": {},
   "source": [
    "# This is originally a very positive review but the model failed to pick its sentiment."
   ]
  },
  {
   "cell_type": "code",
   "execution_count": 61,
   "metadata": {},
   "outputs": [
    {
     "data": {
      "text/html": [
       "<div>\n",
       "<style scoped>\n",
       "    .dataframe tbody tr th:only-of-type {\n",
       "        vertical-align: middle;\n",
       "    }\n",
       "\n",
       "    .dataframe tbody tr th {\n",
       "        vertical-align: top;\n",
       "    }\n",
       "\n",
       "    .dataframe thead th {\n",
       "        text-align: right;\n",
       "    }\n",
       "</style>\n",
       "<table border=\"1\" class=\"dataframe\">\n",
       "  <thead>\n",
       "    <tr style=\"text-align: right;\">\n",
       "      <th></th>\n",
       "      <th>Score</th>\n",
       "      <th>Summary</th>\n",
       "      <th>Text</th>\n",
       "      <th>vader_neg</th>\n",
       "      <th>vader_neu</th>\n",
       "      <th>vader_pos</th>\n",
       "      <th>vader_compound</th>\n",
       "      <th>roberta_negative</th>\n",
       "      <th>roberta_neutral</th>\n",
       "      <th>roberta_positive</th>\n",
       "    </tr>\n",
       "  </thead>\n",
       "  <tbody>\n",
       "    <tr>\n",
       "      <th>74791</th>\n",
       "      <td>5</td>\n",
       "      <td>Greenies are awesome!!</td>\n",
       "      <td>My dogs go crazy for these!! I was worried for...</td>\n",
       "      <td>0.168</td>\n",
       "      <td>0.758</td>\n",
       "      <td>0.074</td>\n",
       "      <td>-0.9210</td>\n",
       "      <td>0.702831</td>\n",
       "      <td>0.246060</td>\n",
       "      <td>0.051109</td>\n",
       "    </tr>\n",
       "    <tr>\n",
       "      <th>75037</th>\n",
       "      <td>5</td>\n",
       "      <td>A little pricey, but worth the $</td>\n",
       "      <td>Our full sized Goldendoodle gets one every day...</td>\n",
       "      <td>0.199</td>\n",
       "      <td>0.801</td>\n",
       "      <td>0.000</td>\n",
       "      <td>-0.8658</td>\n",
       "      <td>0.022575</td>\n",
       "      <td>0.150261</td>\n",
       "      <td>0.827164</td>\n",
       "    </tr>\n",
       "    <tr>\n",
       "      <th>74895</th>\n",
       "      <td>5</td>\n",
       "      <td>Greenies are Great !</td>\n",
       "      <td>[[ASIN:B000KBFKIQ Greenies Dental Chews for Do...</td>\n",
       "      <td>0.132</td>\n",
       "      <td>0.828</td>\n",
       "      <td>0.040</td>\n",
       "      <td>-0.8427</td>\n",
       "      <td>0.004094</td>\n",
       "      <td>0.038781</td>\n",
       "      <td>0.957124</td>\n",
       "    </tr>\n",
       "    <tr>\n",
       "      <th>74670</th>\n",
       "      <td>5</td>\n",
       "      <td>Best doggie treat</td>\n",
       "      <td>I buy the teenie greenies and break them in ha...</td>\n",
       "      <td>0.132</td>\n",
       "      <td>0.832</td>\n",
       "      <td>0.036</td>\n",
       "      <td>-0.8364</td>\n",
       "      <td>0.068857</td>\n",
       "      <td>0.182854</td>\n",
       "      <td>0.748289</td>\n",
       "    </tr>\n",
       "    <tr>\n",
       "      <th>75133</th>\n",
       "      <td>5</td>\n",
       "      <td>Happy Customer</td>\n",
       "      <td>I am not only very happy with this product but...</td>\n",
       "      <td>0.263</td>\n",
       "      <td>0.737</td>\n",
       "      <td>0.000</td>\n",
       "      <td>-0.7528</td>\n",
       "      <td>0.001382</td>\n",
       "      <td>0.008680</td>\n",
       "      <td>0.989938</td>\n",
       "    </tr>\n",
       "    <tr>\n",
       "      <th>...</th>\n",
       "      <td>...</td>\n",
       "      <td>...</td>\n",
       "      <td>...</td>\n",
       "      <td>...</td>\n",
       "      <td>...</td>\n",
       "      <td>...</td>\n",
       "      <td>...</td>\n",
       "      <td>...</td>\n",
       "      <td>...</td>\n",
       "      <td>...</td>\n",
       "    </tr>\n",
       "    <tr>\n",
       "      <th>74941</th>\n",
       "      <td>5</td>\n",
       "      <td>Great price on a great chew</td>\n",
       "      <td>We give our dog one of these per day to help c...</td>\n",
       "      <td>0.000</td>\n",
       "      <td>0.621</td>\n",
       "      <td>0.379</td>\n",
       "      <td>0.9865</td>\n",
       "      <td>0.002083</td>\n",
       "      <td>0.014915</td>\n",
       "      <td>0.983002</td>\n",
       "    </tr>\n",
       "    <tr>\n",
       "      <th>75232</th>\n",
       "      <td>5</td>\n",
       "      <td>Great product and free shipping to AK.  Can't ...</td>\n",
       "      <td>I thought I would write a review because I hav...</td>\n",
       "      <td>0.044</td>\n",
       "      <td>0.778</td>\n",
       "      <td>0.178</td>\n",
       "      <td>0.9879</td>\n",
       "      <td>0.031226</td>\n",
       "      <td>0.194129</td>\n",
       "      <td>0.774645</td>\n",
       "    </tr>\n",
       "    <tr>\n",
       "      <th>75006</th>\n",
       "      <td>5</td>\n",
       "      <td>Freshens breath and my Yorkie loves 'em!!</td>\n",
       "      <td>When my Yorkie was about 10 1/2 years old, her...</td>\n",
       "      <td>0.022</td>\n",
       "      <td>0.837</td>\n",
       "      <td>0.142</td>\n",
       "      <td>0.9893</td>\n",
       "      <td>0.025050</td>\n",
       "      <td>0.129733</td>\n",
       "      <td>0.845217</td>\n",
       "    </tr>\n",
       "    <tr>\n",
       "      <th>75020</th>\n",
       "      <td>5</td>\n",
       "      <td>My fussy little dog's favorite treat</td>\n",
       "      <td>I usually buy these at the pet store, but the ...</td>\n",
       "      <td>0.084</td>\n",
       "      <td>0.568</td>\n",
       "      <td>0.348</td>\n",
       "      <td>0.9901</td>\n",
       "      <td>0.011361</td>\n",
       "      <td>0.072687</td>\n",
       "      <td>0.915953</td>\n",
       "    </tr>\n",
       "    <tr>\n",
       "      <th>74788</th>\n",
       "      <td>5</td>\n",
       "      <td>Great Deal!!</td>\n",
       "      <td>Our dogs adore these and they are usually fair...</td>\n",
       "      <td>0.000</td>\n",
       "      <td>0.793</td>\n",
       "      <td>0.207</td>\n",
       "      <td>0.9949</td>\n",
       "      <td>0.009052</td>\n",
       "      <td>0.081256</td>\n",
       "      <td>0.909692</td>\n",
       "    </tr>\n",
       "  </tbody>\n",
       "</table>\n",
       "<p>498 rows × 10 columns</p>\n",
       "</div>"
      ],
      "text/plain": [
       "       Score                                            Summary  \\\n",
       "74791      5                             Greenies are awesome!!   \n",
       "75037      5                   A little pricey, but worth the $   \n",
       "74895      5                               Greenies are Great !   \n",
       "74670      5                                  Best doggie treat   \n",
       "75133      5                                     Happy Customer   \n",
       "...      ...                                                ...   \n",
       "74941      5                        Great price on a great chew   \n",
       "75232      5  Great product and free shipping to AK.  Can't ...   \n",
       "75006      5          Freshens breath and my Yorkie loves 'em!!   \n",
       "75020      5               My fussy little dog's favorite treat   \n",
       "74788      5                                       Great Deal!!   \n",
       "\n",
       "                                                    Text  vader_neg  \\\n",
       "74791  My dogs go crazy for these!! I was worried for...      0.168   \n",
       "75037  Our full sized Goldendoodle gets one every day...      0.199   \n",
       "74895  [[ASIN:B000KBFKIQ Greenies Dental Chews for Do...      0.132   \n",
       "74670  I buy the teenie greenies and break them in ha...      0.132   \n",
       "75133  I am not only very happy with this product but...      0.263   \n",
       "...                                                  ...        ...   \n",
       "74941  We give our dog one of these per day to help c...      0.000   \n",
       "75232  I thought I would write a review because I hav...      0.044   \n",
       "75006  When my Yorkie was about 10 1/2 years old, her...      0.022   \n",
       "75020  I usually buy these at the pet store, but the ...      0.084   \n",
       "74788  Our dogs adore these and they are usually fair...      0.000   \n",
       "\n",
       "       vader_neu  vader_pos  vader_compound  roberta_negative  \\\n",
       "74791      0.758      0.074         -0.9210          0.702831   \n",
       "75037      0.801      0.000         -0.8658          0.022575   \n",
       "74895      0.828      0.040         -0.8427          0.004094   \n",
       "74670      0.832      0.036         -0.8364          0.068857   \n",
       "75133      0.737      0.000         -0.7528          0.001382   \n",
       "...          ...        ...             ...               ...   \n",
       "74941      0.621      0.379          0.9865          0.002083   \n",
       "75232      0.778      0.178          0.9879          0.031226   \n",
       "75006      0.837      0.142          0.9893          0.025050   \n",
       "75020      0.568      0.348          0.9901          0.011361   \n",
       "74788      0.793      0.207          0.9949          0.009052   \n",
       "\n",
       "       roberta_neutral  roberta_positive  \n",
       "74791         0.246060          0.051109  \n",
       "75037         0.150261          0.827164  \n",
       "74895         0.038781          0.957124  \n",
       "74670         0.182854          0.748289  \n",
       "75133         0.008680          0.989938  \n",
       "...                ...               ...  \n",
       "74941         0.014915          0.983002  \n",
       "75232         0.194129          0.774645  \n",
       "75006         0.129733          0.845217  \n",
       "75020         0.072687          0.915953  \n",
       "74788         0.081256          0.909692  \n",
       "\n",
       "[498 rows x 10 columns]"
      ]
     },
     "execution_count": 61,
     "metadata": {},
     "output_type": "execute_result"
    }
   ],
   "source": [
    "#Vader\n",
    "sentiment_scores[sentiment_scores['Score']==5].sort_values('vader_compound', ascending=True)"
   ]
  },
  {
   "cell_type": "code",
   "execution_count": 62,
   "metadata": {},
   "outputs": [
    {
     "data": {
      "text/plain": [
       "'My dogs go crazy for these!! I was worried for their safety since I had heard some negative reviews for these chews, so I did some research and found that the most common problem is from choking.  They do chomp them down so I have them eat it while I\\'m nearby in case they choke (haven\\'t yet).  Their teeth and gums are clean and strong so that saves $$ on dental bills.  I don\\'t like the idea of having them go under general anesthesia just to get their teeth cleaned (seems much riskier), so I will continue to take the \"risk\" with Greenies. Amazon price for these, even with shipping costs, are still the lowest. And my dogs get to bark at the FedEx guy!!'"
      ]
     },
     "execution_count": 62,
     "metadata": {},
     "output_type": "execute_result"
    }
   ],
   "source": [
    "sentiment_scores[sentiment_scores['Score']==5].sort_values('vader_compound', ascending=True)['Text'].iloc[0]"
   ]
  },
  {
   "cell_type": "code",
   "execution_count": null,
   "metadata": {},
   "outputs": [],
   "source": []
  }
 ],
 "metadata": {
  "kaggle": {
   "accelerator": "none",
   "dataSources": [
    {
     "datasetId": 18,
     "sourceId": 2157,
     "sourceType": "datasetVersion"
    }
   ],
   "dockerImageVersionId": 30775,
   "isGpuEnabled": false,
   "isInternetEnabled": true,
   "language": "python",
   "sourceType": "notebook"
  },
  "kernelspec": {
   "display_name": "Python 3 (ipykernel)",
   "language": "python",
   "name": "python3"
  },
  "language_info": {
   "codemirror_mode": {
    "name": "ipython",
    "version": 3
   },
   "file_extension": ".py",
   "mimetype": "text/x-python",
   "name": "python",
   "nbconvert_exporter": "python",
   "pygments_lexer": "ipython3",
   "version": "3.11.5"
  }
 },
 "nbformat": 4,
 "nbformat_minor": 4
}
